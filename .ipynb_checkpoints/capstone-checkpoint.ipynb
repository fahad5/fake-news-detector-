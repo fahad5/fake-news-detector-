{
 "cells": [
  {
   "cell_type": "code",
   "execution_count": 2,
   "metadata": {},
   "outputs": [],
   "source": [
    "# API scrape \n",
    "from psaw import PushshiftAPI\n",
    "\n",
    "# Basic libraries\n",
    "import numpy as np\n",
    "import pandas as pd\n",
    "\n",
    "# Data Visualization\n",
    "import matplotlib.pyplot as plt\n",
    "import seaborn as sns\n",
    "%config InlineBackend.figure_format = 'retina'\n",
    "%matplotlib inline\n",
    "\n",
    "# Natural Language Processing\n",
    "from sklearn.feature_extraction import stop_words\n",
    "from sklearn.feature_extraction.text import CountVectorizer, TfidfVectorizer\n",
    "\n",
    "# Modeling\n",
    "from sklearn.linear_model import LogisticRegression\n",
    "from sklearn.model_selection import train_test_split, GridSearchCV\n",
    "from sklearn.pipeline import Pipeline\n",
    "from sklearn.naive_bayes import MultinomialNB\n",
    "from sklearn import metrics\n",
    "from sklearn.metrics import accuracy_score, recall_score, precision_score, confusion_matrix"
   ]
  },
  {
   "cell_type": "code",
   "execution_count": 3,
   "metadata": {},
   "outputs": [],
   "source": [
    "def scrape_data(subreddit):\n",
    "    \n",
    "    # Instantiate \n",
    "    api = PushshiftAPI()\n",
    "\n",
    "    # Create list of scraped data\n",
    "    scrape_list = list(api.search_submissions(subreddit=subreddit,\n",
    "                                filter=['title', 'subreddit', 'num_comments', 'author', 'subreddit_subscribers', 'score', 'domain', 'created_utc'],\n",
    "                                limit=15000))\n",
    "\n",
    "    #Filter list to only show Subreddit titles and Subreddit category \n",
    "    clean_scrape_lst = []\n",
    "    for i in range(len(scrape_list)):\n",
    "        scrape_dict = {}\n",
    "        scrape_dict['subreddit'] = scrape_list[i][5]\n",
    "        scrape_dict['author'] = scrape_list[i][0]\n",
    "        scrape_dict['domain'] = scrape_list[i][2]\n",
    "        scrape_dict['title'] = scrape_list[i][7]\n",
    "        scrape_dict['num_comments'] = scrape_list[i][3]\n",
    "        scrape_dict['score'] = scrape_list[i][4]\n",
    "        scrape_dict['timestamp'] = scrape_list[i][1]\n",
    "        clean_scrape_lst.append(scrape_dict)\n",
    "\n",
    "    # Show number of subscribers\n",
    "    print(subreddit, 'subscribers:',scrape_list[1][6])\n",
    "    \n",
    "    # Return list of scraped data\n",
    "    return clean_scrape_lst"
   ]
  },
  {
   "cell_type": "code",
   "execution_count": null,
   "metadata": {},
   "outputs": [],
   "source": []
  }
 ],
 "metadata": {
  "kernelspec": {
   "display_name": "Python 3",
   "language": "python",
   "name": "python3"
  },
  "language_info": {
   "codemirror_mode": {
    "name": "ipython",
    "version": 3
   },
   "file_extension": ".py",
   "mimetype": "text/x-python",
   "name": "python",
   "nbconvert_exporter": "python",
   "pygments_lexer": "ipython3",
   "version": "3.7.3"
  }
 },
 "nbformat": 4,
 "nbformat_minor": 2
}
