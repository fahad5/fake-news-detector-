{
 "cells": [
  {
   "cell_type": "code",
   "execution_count": 2,
   "metadata": {
    "ExecuteTime": {
     "end_time": "2019-10-04T16:47:19.538929Z",
     "start_time": "2019-10-04T16:47:16.415901Z"
    }
   },
   "outputs": [],
   "source": [
    "# API scrape \n",
    "from psaw import PushshiftAPI\n",
    "\n",
    "# Basic libraries\n",
    "import numpy as np\n",
    "import pandas as pd\n",
    "\n",
    "# Data Visualization\n",
    "import matplotlib.pyplot as plt\n",
    "import seaborn as sns\n",
    "%config InlineBackend.figure_format = 'retina'\n",
    "%matplotlib inline\n",
    "\n",
    "# Natural Language Processing\n",
    "from sklearn.feature_extraction import stop_words\n",
    "from sklearn.feature_extraction.text import CountVectorizer, TfidfVectorizer\n",
    "\n",
    "# Modeling\n",
    "from sklearn.linear_model import LogisticRegression\n",
    "from sklearn.model_selection import train_test_split, GridSearchCV\n",
    "from sklearn.pipeline import Pipeline\n",
    "from sklearn.naive_bayes import MultinomialNB\n",
    "from sklearn import metrics\n",
    "from sklearn.metrics import accuracy_score, recall_score, precision_score, confusion_matrix"
   ]
  },
  {
   "cell_type": "markdown",
   "metadata": {},
   "source": [
    "Data Scrape\n",
    "I chose to scrape posts from r/TheOnion and r/nottheonion in order to create a fake news model that could accurately distinguish between fake news and absurd news. From each subbreddit I scraped the following information:\n",
    "\n",
    "title: title of subreddit post\n",
    "subreddit: which subreddit the post belongs to\n",
    "num_comments: the number of comments for a post\n",
    "author: author's username of a post\n",
    "subreddit_subcribers: number of subcribers for that subreddit\n",
    "score: the score received on reddit\n",
    "domain: the domain referenced in the post\n",
    "created_utc: date and time the post was created"
   ]
  },
  {
   "cell_type": "code",
   "execution_count": 3,
   "metadata": {
    "ExecuteTime": {
     "end_time": "2019-10-04T16:47:19.591156Z",
     "start_time": "2019-10-04T16:47:19.580138Z"
    }
   },
   "outputs": [],
   "source": [
    "#API Scrape Function\n",
    "def scrape_data(subreddit):\n",
    "    \n",
    "    # Instantiate \n",
    "    api = PushshiftAPI()\n",
    "\n",
    "    # Create list of scraped data\n",
    "    scrape_list = list(api.search_submissions(subreddit=subreddit,\n",
    "                                filter=['title', 'subreddit', 'num_comments', 'author', 'subreddit_subscribers', 'score', 'domain', 'created_utc'],\n",
    "                                limit=15000))\n",
    "\n",
    "    #Filter list to only show Subreddit titles and Subreddit category \n",
    "    clean_scrape_lst = []\n",
    "    for i in range(len(scrape_list)):\n",
    "        scrape_dict = {}\n",
    "        scrape_dict['subreddit'] = scrape_list[i][5]\n",
    "        scrape_dict['author'] = scrape_list[i][0]\n",
    "        scrape_dict['domain'] = scrape_list[i][2]\n",
    "        scrape_dict['title'] = scrape_list[i][7]\n",
    "        scrape_dict['num_comments'] = scrape_list[i][3]\n",
    "        scrape_dict['score'] = scrape_list[i][4]\n",
    "        scrape_dict['timestamp'] = scrape_list[i][1]\n",
    "        clean_scrape_lst.append(scrape_dict)\n",
    "\n",
    "    # Show number of subscribers\n",
    "    print(subreddit, 'subscribers:',scrape_list[1][6])\n",
    "    \n",
    "    # Return list of scraped data\n",
    "    return clean_scrape_lst"
   ]
  },
  {
   "cell_type": "code",
   "execution_count": 4,
   "metadata": {
    "ExecuteTime": {
     "end_time": "2019-10-04T16:48:20.066909Z",
     "start_time": "2019-10-04T16:47:19.614916Z"
    }
   },
   "outputs": [
    {
     "name": "stdout",
     "output_type": "stream",
     "text": [
      "nottheonion subscribers: 15815873\n"
     ]
    }
   ],
   "source": [
    "# Call function and create DataFrame\n",
    "df_not_onion = pd.DataFrame(scrape_data('nottheonion'))\n",
    "\n",
    "# Save data to csv\n",
    "df_not_onion.to_csv('./data/not_onion.csv')\n",
    "\n"
   ]
  },
  {
   "cell_type": "code",
   "execution_count": 5,
   "metadata": {
    "ExecuteTime": {
     "end_time": "2019-10-04T16:48:20.127762Z",
     "start_time": "2019-10-04T16:48:20.112864Z"
    }
   },
   "outputs": [
    {
     "name": "stdout",
     "output_type": "stream",
     "text": [
      "df_not_onion shape: (15000, 7)\n"
     ]
    },
    {
     "data": {
      "text/html": [
       "<div>\n",
       "<style scoped>\n",
       "    .dataframe tbody tr th:only-of-type {\n",
       "        vertical-align: middle;\n",
       "    }\n",
       "\n",
       "    .dataframe tbody tr th {\n",
       "        vertical-align: top;\n",
       "    }\n",
       "\n",
       "    .dataframe thead th {\n",
       "        text-align: right;\n",
       "    }\n",
       "</style>\n",
       "<table border=\"1\" class=\"dataframe\">\n",
       "  <thead>\n",
       "    <tr style=\"text-align: right;\">\n",
       "      <th></th>\n",
       "      <th>author</th>\n",
       "      <th>domain</th>\n",
       "      <th>num_comments</th>\n",
       "      <th>score</th>\n",
       "      <th>subreddit</th>\n",
       "      <th>timestamp</th>\n",
       "      <th>title</th>\n",
       "    </tr>\n",
       "  </thead>\n",
       "  <tbody>\n",
       "    <tr>\n",
       "      <th>0</th>\n",
       "      <td>One_Day_Dead</td>\n",
       "      <td>ign.com</td>\n",
       "      <td>2</td>\n",
       "      <td>1</td>\n",
       "      <td>nottheonion</td>\n",
       "      <td>1570207585</td>\n",
       "      <td>Wendy's Made a Tabletop RPG Where You Battle R...</td>\n",
       "    </tr>\n",
       "    <tr>\n",
       "      <th>1</th>\n",
       "      <td>mrjoepete</td>\n",
       "      <td>thedrive.com</td>\n",
       "      <td>0</td>\n",
       "      <td>1</td>\n",
       "      <td>nottheonion</td>\n",
       "      <td>1570206800</td>\n",
       "      <td>Volkswagen Golf R used as Getaway Car in $6 Mi...</td>\n",
       "    </tr>\n",
       "    <tr>\n",
       "      <th>2</th>\n",
       "      <td>PapayaSF</td>\n",
       "      <td>thejc.com</td>\n",
       "      <td>1</td>\n",
       "      <td>1</td>\n",
       "      <td>nottheonion</td>\n",
       "      <td>1570206630</td>\n",
       "      <td>University and College Union apologises after ...</td>\n",
       "    </tr>\n",
       "    <tr>\n",
       "      <th>3</th>\n",
       "      <td>SuperCub</td>\n",
       "      <td>wtvm.com</td>\n",
       "      <td>1</td>\n",
       "      <td>1</td>\n",
       "      <td>nottheonion</td>\n",
       "      <td>1570206381</td>\n",
       "      <td>Florida woman didn’t get enough tomatoes so sh...</td>\n",
       "    </tr>\n",
       "    <tr>\n",
       "      <th>4</th>\n",
       "      <td>Planeguy58</td>\n",
       "      <td>cnn.com</td>\n",
       "      <td>0</td>\n",
       "      <td>1</td>\n",
       "      <td>nottheonion</td>\n",
       "      <td>1570205951</td>\n",
       "      <td>Kamala Harris calls on Twitter CEO to suspend ...</td>\n",
       "    </tr>\n",
       "  </tbody>\n",
       "</table>\n",
       "</div>"
      ],
      "text/plain": [
       "         author        domain  num_comments  score    subreddit   timestamp  \\\n",
       "0  One_Day_Dead       ign.com             2      1  nottheonion  1570207585   \n",
       "1     mrjoepete  thedrive.com             0      1  nottheonion  1570206800   \n",
       "2      PapayaSF     thejc.com             1      1  nottheonion  1570206630   \n",
       "3      SuperCub      wtvm.com             1      1  nottheonion  1570206381   \n",
       "4    Planeguy58       cnn.com             0      1  nottheonion  1570205951   \n",
       "\n",
       "                                               title  \n",
       "0  Wendy's Made a Tabletop RPG Where You Battle R...  \n",
       "1  Volkswagen Golf R used as Getaway Car in $6 Mi...  \n",
       "2  University and College Union apologises after ...  \n",
       "3  Florida woman didn’t get enough tomatoes so sh...  \n",
       "4  Kamala Harris calls on Twitter CEO to suspend ...  "
      ]
     },
     "execution_count": 5,
     "metadata": {},
     "output_type": "execute_result"
    }
   ],
   "source": [
    "# Shape of DataFrame\n",
    "print(f'df_not_onion shape: {df_not_onion.shape}')\n",
    "\n",
    "# Show head\n",
    "df_not_onion.head()"
   ]
  },
  {
   "cell_type": "code",
   "execution_count": 6,
   "metadata": {
    "ExecuteTime": {
     "end_time": "2019-10-04T16:49:16.091411Z",
     "start_time": "2019-10-04T16:48:20.160802Z"
    }
   },
   "outputs": [
    {
     "name": "stdout",
     "output_type": "stream",
     "text": [
      "theonion subscribers: 121514\n",
      "df_onion shape: (15000, 7)\n"
     ]
    },
    {
     "data": {
      "text/html": [
       "<div>\n",
       "<style scoped>\n",
       "    .dataframe tbody tr th:only-of-type {\n",
       "        vertical-align: middle;\n",
       "    }\n",
       "\n",
       "    .dataframe tbody tr th {\n",
       "        vertical-align: top;\n",
       "    }\n",
       "\n",
       "    .dataframe thead th {\n",
       "        text-align: right;\n",
       "    }\n",
       "</style>\n",
       "<table border=\"1\" class=\"dataframe\">\n",
       "  <thead>\n",
       "    <tr style=\"text-align: right;\">\n",
       "      <th></th>\n",
       "      <th>author</th>\n",
       "      <th>domain</th>\n",
       "      <th>num_comments</th>\n",
       "      <th>score</th>\n",
       "      <th>subreddit</th>\n",
       "      <th>timestamp</th>\n",
       "      <th>title</th>\n",
       "    </tr>\n",
       "  </thead>\n",
       "  <tbody>\n",
       "    <tr>\n",
       "      <th>0</th>\n",
       "      <td>dwaxe</td>\n",
       "      <td>clickhole.com</td>\n",
       "      <td>1</td>\n",
       "      <td>1</td>\n",
       "      <td>TheOnion</td>\n",
       "      <td>1570205550</td>\n",
       "      <td>Cool It: This High Schooler Is Really Milking ...</td>\n",
       "    </tr>\n",
       "    <tr>\n",
       "      <th>1</th>\n",
       "      <td>Zeno_Fobya</td>\n",
       "      <td>theonion.com</td>\n",
       "      <td>1</td>\n",
       "      <td>1</td>\n",
       "      <td>TheOnion</td>\n",
       "      <td>1570201215</td>\n",
       "      <td>This article from 2011 should be archived as a...</td>\n",
       "    </tr>\n",
       "    <tr>\n",
       "      <th>2</th>\n",
       "      <td>aresef</td>\n",
       "      <td>politics.theonion.com</td>\n",
       "      <td>1</td>\n",
       "      <td>1</td>\n",
       "      <td>TheOnion</td>\n",
       "      <td>1570136115</td>\n",
       "      <td>Kamala Harris Undergoes Heart Surgery After Se...</td>\n",
       "    </tr>\n",
       "    <tr>\n",
       "      <th>3</th>\n",
       "      <td>aresef</td>\n",
       "      <td>lifestyle.clickhole.com</td>\n",
       "      <td>0</td>\n",
       "      <td>1</td>\n",
       "      <td>TheOnion</td>\n",
       "      <td>1570131253</td>\n",
       "      <td>6 Pictures Of Scarlett Johansson That Will Mak...</td>\n",
       "    </tr>\n",
       "    <tr>\n",
       "      <th>4</th>\n",
       "      <td>aresef</td>\n",
       "      <td>politics.theonion.com</td>\n",
       "      <td>0</td>\n",
       "      <td>1</td>\n",
       "      <td>TheOnion</td>\n",
       "      <td>1570130996</td>\n",
       "      <td>Justin Trudeau Explains Deep Spiritual Signifi...</td>\n",
       "    </tr>\n",
       "  </tbody>\n",
       "</table>\n",
       "</div>"
      ],
      "text/plain": [
       "       author                   domain  num_comments  score subreddit  \\\n",
       "0       dwaxe            clickhole.com             1      1  TheOnion   \n",
       "1  Zeno_Fobya             theonion.com             1      1  TheOnion   \n",
       "2      aresef    politics.theonion.com             1      1  TheOnion   \n",
       "3      aresef  lifestyle.clickhole.com             0      1  TheOnion   \n",
       "4      aresef    politics.theonion.com             0      1  TheOnion   \n",
       "\n",
       "    timestamp                                              title  \n",
       "0  1570205550  Cool It: This High Schooler Is Really Milking ...  \n",
       "1  1570201215  This article from 2011 should be archived as a...  \n",
       "2  1570136115  Kamala Harris Undergoes Heart Surgery After Se...  \n",
       "3  1570131253  6 Pictures Of Scarlett Johansson That Will Mak...  \n",
       "4  1570130996  Justin Trudeau Explains Deep Spiritual Signifi...  "
      ]
     },
     "execution_count": 6,
     "metadata": {},
     "output_type": "execute_result"
    }
   ],
   "source": [
    "# Call function and create DataFrame\n",
    "df_onion = pd.DataFrame(scrape_data('theonion'))\n",
    "\n",
    "# Save data to csv\n",
    "df_onion.to_csv('./data/the_onion.csv')\n",
    "\n",
    "# Shape of DataFrame\n",
    "print(f'df_onion shape: {df_onion.shape}')\n",
    "\n",
    "# Show head\n",
    "df_onion.head()"
   ]
  },
  {
   "cell_type": "code",
   "execution_count": 7,
   "metadata": {
    "ExecuteTime": {
     "end_time": "2019-10-04T16:49:16.318887Z",
     "start_time": "2019-10-04T16:49:16.211186Z"
    }
   },
   "outputs": [],
   "source": [
    "# r/TheOnion DataFrame\n",
    "df_onion = pd.read_csv('./data/the_onion.csv')\n",
    "\n",
    "# r/nottheonion DataFrame\n",
    "df_not_onion = pd.read_csv('./data/not_onion.csv')"
   ]
  },
  {
   "cell_type": "code",
   "execution_count": 8,
   "metadata": {
    "ExecuteTime": {
     "end_time": "2019-10-04T16:49:16.454774Z",
     "start_time": "2019-10-04T16:49:16.435291Z"
    }
   },
   "outputs": [
    {
     "name": "stdout",
     "output_type": "stream",
     "text": [
      "Shape: (15000, 8)\n"
     ]
    },
    {
     "data": {
      "text/html": [
       "<div>\n",
       "<style scoped>\n",
       "    .dataframe tbody tr th:only-of-type {\n",
       "        vertical-align: middle;\n",
       "    }\n",
       "\n",
       "    .dataframe tbody tr th {\n",
       "        vertical-align: top;\n",
       "    }\n",
       "\n",
       "    .dataframe thead th {\n",
       "        text-align: right;\n",
       "    }\n",
       "</style>\n",
       "<table border=\"1\" class=\"dataframe\">\n",
       "  <thead>\n",
       "    <tr style=\"text-align: right;\">\n",
       "      <th></th>\n",
       "      <th>Unnamed: 0</th>\n",
       "      <th>author</th>\n",
       "      <th>domain</th>\n",
       "      <th>num_comments</th>\n",
       "      <th>score</th>\n",
       "      <th>subreddit</th>\n",
       "      <th>timestamp</th>\n",
       "      <th>title</th>\n",
       "    </tr>\n",
       "  </thead>\n",
       "  <tbody>\n",
       "    <tr>\n",
       "      <th>0</th>\n",
       "      <td>0</td>\n",
       "      <td>dwaxe</td>\n",
       "      <td>clickhole.com</td>\n",
       "      <td>1</td>\n",
       "      <td>1</td>\n",
       "      <td>TheOnion</td>\n",
       "      <td>1570205550</td>\n",
       "      <td>Cool It: This High Schooler Is Really Milking ...</td>\n",
       "    </tr>\n",
       "    <tr>\n",
       "      <th>1</th>\n",
       "      <td>1</td>\n",
       "      <td>Zeno_Fobya</td>\n",
       "      <td>theonion.com</td>\n",
       "      <td>1</td>\n",
       "      <td>1</td>\n",
       "      <td>TheOnion</td>\n",
       "      <td>1570201215</td>\n",
       "      <td>This article from 2011 should be archived as a...</td>\n",
       "    </tr>\n",
       "    <tr>\n",
       "      <th>2</th>\n",
       "      <td>2</td>\n",
       "      <td>aresef</td>\n",
       "      <td>politics.theonion.com</td>\n",
       "      <td>1</td>\n",
       "      <td>1</td>\n",
       "      <td>TheOnion</td>\n",
       "      <td>1570136115</td>\n",
       "      <td>Kamala Harris Undergoes Heart Surgery After Se...</td>\n",
       "    </tr>\n",
       "    <tr>\n",
       "      <th>3</th>\n",
       "      <td>3</td>\n",
       "      <td>aresef</td>\n",
       "      <td>lifestyle.clickhole.com</td>\n",
       "      <td>0</td>\n",
       "      <td>1</td>\n",
       "      <td>TheOnion</td>\n",
       "      <td>1570131253</td>\n",
       "      <td>6 Pictures Of Scarlett Johansson That Will Mak...</td>\n",
       "    </tr>\n",
       "    <tr>\n",
       "      <th>4</th>\n",
       "      <td>4</td>\n",
       "      <td>aresef</td>\n",
       "      <td>politics.theonion.com</td>\n",
       "      <td>0</td>\n",
       "      <td>1</td>\n",
       "      <td>TheOnion</td>\n",
       "      <td>1570130996</td>\n",
       "      <td>Justin Trudeau Explains Deep Spiritual Signifi...</td>\n",
       "    </tr>\n",
       "  </tbody>\n",
       "</table>\n",
       "</div>"
      ],
      "text/plain": [
       "   Unnamed: 0      author                   domain  num_comments  score  \\\n",
       "0           0       dwaxe            clickhole.com             1      1   \n",
       "1           1  Zeno_Fobya             theonion.com             1      1   \n",
       "2           2      aresef    politics.theonion.com             1      1   \n",
       "3           3      aresef  lifestyle.clickhole.com             0      1   \n",
       "4           4      aresef    politics.theonion.com             0      1   \n",
       "\n",
       "  subreddit   timestamp                                              title  \n",
       "0  TheOnion  1570205550  Cool It: This High Schooler Is Really Milking ...  \n",
       "1  TheOnion  1570201215  This article from 2011 should be archived as a...  \n",
       "2  TheOnion  1570136115  Kamala Harris Undergoes Heart Surgery After Se...  \n",
       "3  TheOnion  1570131253  6 Pictures Of Scarlett Johansson That Will Mak...  \n",
       "4  TheOnion  1570130996  Justin Trudeau Explains Deep Spiritual Signifi...  "
      ]
     },
     "execution_count": 8,
     "metadata": {},
     "output_type": "execute_result"
    }
   ],
   "source": [
    "# Show first 5 rows of df_onion\n",
    "print(\"Shape:\", df_onion.shape)\n",
    "df_onion.head()"
   ]
  },
  {
   "cell_type": "code",
   "execution_count": 9,
   "metadata": {
    "ExecuteTime": {
     "end_time": "2019-10-04T16:49:16.564990Z",
     "start_time": "2019-10-04T16:49:16.544829Z"
    }
   },
   "outputs": [],
   "source": [
    "df_onion.drop(['Unnamed: 0'],axis=1,inplace=True)\n"
   ]
  },
  {
   "cell_type": "code",
   "execution_count": 10,
   "metadata": {
    "ExecuteTime": {
     "end_time": "2019-10-04T16:49:16.694106Z",
     "start_time": "2019-10-04T16:49:16.666852Z"
    }
   },
   "outputs": [
    {
     "name": "stdout",
     "output_type": "stream",
     "text": [
      "Shape: (15000, 8)\n"
     ]
    },
    {
     "data": {
      "text/html": [
       "<div>\n",
       "<style scoped>\n",
       "    .dataframe tbody tr th:only-of-type {\n",
       "        vertical-align: middle;\n",
       "    }\n",
       "\n",
       "    .dataframe tbody tr th {\n",
       "        vertical-align: top;\n",
       "    }\n",
       "\n",
       "    .dataframe thead th {\n",
       "        text-align: right;\n",
       "    }\n",
       "</style>\n",
       "<table border=\"1\" class=\"dataframe\">\n",
       "  <thead>\n",
       "    <tr style=\"text-align: right;\">\n",
       "      <th></th>\n",
       "      <th>Unnamed: 0</th>\n",
       "      <th>author</th>\n",
       "      <th>domain</th>\n",
       "      <th>num_comments</th>\n",
       "      <th>score</th>\n",
       "      <th>subreddit</th>\n",
       "      <th>timestamp</th>\n",
       "      <th>title</th>\n",
       "    </tr>\n",
       "  </thead>\n",
       "  <tbody>\n",
       "    <tr>\n",
       "      <th>0</th>\n",
       "      <td>0</td>\n",
       "      <td>One_Day_Dead</td>\n",
       "      <td>ign.com</td>\n",
       "      <td>2</td>\n",
       "      <td>1</td>\n",
       "      <td>nottheonion</td>\n",
       "      <td>1570207585</td>\n",
       "      <td>Wendy's Made a Tabletop RPG Where You Battle R...</td>\n",
       "    </tr>\n",
       "    <tr>\n",
       "      <th>1</th>\n",
       "      <td>1</td>\n",
       "      <td>mrjoepete</td>\n",
       "      <td>thedrive.com</td>\n",
       "      <td>0</td>\n",
       "      <td>1</td>\n",
       "      <td>nottheonion</td>\n",
       "      <td>1570206800</td>\n",
       "      <td>Volkswagen Golf R used as Getaway Car in $6 Mi...</td>\n",
       "    </tr>\n",
       "    <tr>\n",
       "      <th>2</th>\n",
       "      <td>2</td>\n",
       "      <td>PapayaSF</td>\n",
       "      <td>thejc.com</td>\n",
       "      <td>1</td>\n",
       "      <td>1</td>\n",
       "      <td>nottheonion</td>\n",
       "      <td>1570206630</td>\n",
       "      <td>University and College Union apologises after ...</td>\n",
       "    </tr>\n",
       "    <tr>\n",
       "      <th>3</th>\n",
       "      <td>3</td>\n",
       "      <td>SuperCub</td>\n",
       "      <td>wtvm.com</td>\n",
       "      <td>1</td>\n",
       "      <td>1</td>\n",
       "      <td>nottheonion</td>\n",
       "      <td>1570206381</td>\n",
       "      <td>Florida woman didn’t get enough tomatoes so sh...</td>\n",
       "    </tr>\n",
       "    <tr>\n",
       "      <th>4</th>\n",
       "      <td>4</td>\n",
       "      <td>Planeguy58</td>\n",
       "      <td>cnn.com</td>\n",
       "      <td>0</td>\n",
       "      <td>1</td>\n",
       "      <td>nottheonion</td>\n",
       "      <td>1570205951</td>\n",
       "      <td>Kamala Harris calls on Twitter CEO to suspend ...</td>\n",
       "    </tr>\n",
       "  </tbody>\n",
       "</table>\n",
       "</div>"
      ],
      "text/plain": [
       "   Unnamed: 0        author        domain  num_comments  score    subreddit  \\\n",
       "0           0  One_Day_Dead       ign.com             2      1  nottheonion   \n",
       "1           1     mrjoepete  thedrive.com             0      1  nottheonion   \n",
       "2           2      PapayaSF     thejc.com             1      1  nottheonion   \n",
       "3           3      SuperCub      wtvm.com             1      1  nottheonion   \n",
       "4           4    Planeguy58       cnn.com             0      1  nottheonion   \n",
       "\n",
       "    timestamp                                              title  \n",
       "0  1570207585  Wendy's Made a Tabletop RPG Where You Battle R...  \n",
       "1  1570206800  Volkswagen Golf R used as Getaway Car in $6 Mi...  \n",
       "2  1570206630  University and College Union apologises after ...  \n",
       "3  1570206381  Florida woman didn’t get enough tomatoes so sh...  \n",
       "4  1570205951  Kamala Harris calls on Twitter CEO to suspend ...  "
      ]
     },
     "execution_count": 10,
     "metadata": {},
     "output_type": "execute_result"
    }
   ],
   "source": [
    "# Show first 5 rows of df_not_onion\n",
    "print(\"Shape:\", df_not_onion.shape)\n",
    "df_not_onion.head()"
   ]
  },
  {
   "cell_type": "code",
   "execution_count": 11,
   "metadata": {
    "ExecuteTime": {
     "end_time": "2019-10-04T16:49:16.789368Z",
     "start_time": "2019-10-04T16:49:16.780905Z"
    }
   },
   "outputs": [],
   "source": [
    "df_not_onion.drop(['Unnamed: 0'],axis=1,inplace=True)"
   ]
  },
  {
   "cell_type": "code",
   "execution_count": 12,
   "metadata": {
    "ExecuteTime": {
     "end_time": "2019-10-04T16:49:16.883375Z",
     "start_time": "2019-10-04T16:49:16.874137Z"
    }
   },
   "outputs": [],
   "source": [
    "def clean_data(dataframe):\n",
    "\n",
    "    # Drop duplicate rows\n",
    "    dataframe.drop_duplicates(subset='title', inplace=True)\n",
    "    \n",
    "    # Remove punctation\n",
    "    dataframe['title'] = dataframe['title'].str.replace('[^\\w\\s]',' ')\n",
    "\n",
    "    # Remove numbers \n",
    "    dataframe['title'] = dataframe['title'].str.replace('[^A-Za-z]',' ')\n",
    "\n",
    "    # Make sure any double-spaces are single \n",
    "    dataframe['title'] = dataframe['title'].str.replace('  ',' ')\n",
    "    dataframe['title'] = dataframe['title'].str.replace('  ',' ')\n",
    "\n",
    "    # Transform all text to lowercase\n",
    "    dataframe['title'] = dataframe['title'].str.lower()\n",
    "    \n",
    "    print(\"New shape:\", dataframe.shape)\n",
    "    return dataframe.head()"
   ]
  },
  {
   "cell_type": "code",
   "execution_count": 13,
   "metadata": {
    "ExecuteTime": {
     "end_time": "2019-10-04T16:49:17.094751Z",
     "start_time": "2019-10-04T16:49:16.953971Z"
    }
   },
   "outputs": [
    {
     "name": "stdout",
     "output_type": "stream",
     "text": [
      "New shape: (14224, 7)\n"
     ]
    },
    {
     "data": {
      "text/html": [
       "<div>\n",
       "<style scoped>\n",
       "    .dataframe tbody tr th:only-of-type {\n",
       "        vertical-align: middle;\n",
       "    }\n",
       "\n",
       "    .dataframe tbody tr th {\n",
       "        vertical-align: top;\n",
       "    }\n",
       "\n",
       "    .dataframe thead th {\n",
       "        text-align: right;\n",
       "    }\n",
       "</style>\n",
       "<table border=\"1\" class=\"dataframe\">\n",
       "  <thead>\n",
       "    <tr style=\"text-align: right;\">\n",
       "      <th></th>\n",
       "      <th>author</th>\n",
       "      <th>domain</th>\n",
       "      <th>num_comments</th>\n",
       "      <th>score</th>\n",
       "      <th>subreddit</th>\n",
       "      <th>timestamp</th>\n",
       "      <th>title</th>\n",
       "    </tr>\n",
       "  </thead>\n",
       "  <tbody>\n",
       "    <tr>\n",
       "      <th>0</th>\n",
       "      <td>dwaxe</td>\n",
       "      <td>clickhole.com</td>\n",
       "      <td>1</td>\n",
       "      <td>1</td>\n",
       "      <td>TheOnion</td>\n",
       "      <td>1570205550</td>\n",
       "      <td>cool it this high schooler is really milking t...</td>\n",
       "    </tr>\n",
       "    <tr>\n",
       "      <th>1</th>\n",
       "      <td>Zeno_Fobya</td>\n",
       "      <td>theonion.com</td>\n",
       "      <td>1</td>\n",
       "      <td>1</td>\n",
       "      <td>TheOnion</td>\n",
       "      <td>1570201215</td>\n",
       "      <td>this article from  should be archived as a cla...</td>\n",
       "    </tr>\n",
       "    <tr>\n",
       "      <th>2</th>\n",
       "      <td>aresef</td>\n",
       "      <td>politics.theonion.com</td>\n",
       "      <td>1</td>\n",
       "      <td>1</td>\n",
       "      <td>TheOnion</td>\n",
       "      <td>1570136115</td>\n",
       "      <td>kamala harris undergoes heart surgery after se...</td>\n",
       "    </tr>\n",
       "    <tr>\n",
       "      <th>3</th>\n",
       "      <td>aresef</td>\n",
       "      <td>lifestyle.clickhole.com</td>\n",
       "      <td>0</td>\n",
       "      <td>1</td>\n",
       "      <td>TheOnion</td>\n",
       "      <td>1570131253</td>\n",
       "      <td>pictures of scarlett johansson that will make...</td>\n",
       "    </tr>\n",
       "    <tr>\n",
       "      <th>4</th>\n",
       "      <td>aresef</td>\n",
       "      <td>politics.theonion.com</td>\n",
       "      <td>0</td>\n",
       "      <td>1</td>\n",
       "      <td>TheOnion</td>\n",
       "      <td>1570130996</td>\n",
       "      <td>justin trudeau explains deep spiritual signifi...</td>\n",
       "    </tr>\n",
       "  </tbody>\n",
       "</table>\n",
       "</div>"
      ],
      "text/plain": [
       "       author                   domain  num_comments  score subreddit  \\\n",
       "0       dwaxe            clickhole.com             1      1  TheOnion   \n",
       "1  Zeno_Fobya             theonion.com             1      1  TheOnion   \n",
       "2      aresef    politics.theonion.com             1      1  TheOnion   \n",
       "3      aresef  lifestyle.clickhole.com             0      1  TheOnion   \n",
       "4      aresef    politics.theonion.com             0      1  TheOnion   \n",
       "\n",
       "    timestamp                                              title  \n",
       "0  1570205550  cool it this high schooler is really milking t...  \n",
       "1  1570201215  this article from  should be archived as a cla...  \n",
       "2  1570136115  kamala harris undergoes heart surgery after se...  \n",
       "3  1570131253   pictures of scarlett johansson that will make...  \n",
       "4  1570130996  justin trudeau explains deep spiritual signifi...  "
      ]
     },
     "execution_count": 13,
     "metadata": {},
     "output_type": "execute_result"
    }
   ],
   "source": [
    "# Call `clean_data(dataframe)` function\n",
    "clean_data(df_onion)"
   ]
  },
  {
   "cell_type": "code",
   "execution_count": 14,
   "metadata": {
    "ExecuteTime": {
     "end_time": "2019-10-04T16:49:17.282995Z",
     "start_time": "2019-10-04T16:49:17.152602Z"
    }
   },
   "outputs": [
    {
     "name": "stdout",
     "output_type": "stream",
     "text": [
      "New shape: (11860, 7)\n"
     ]
    },
    {
     "data": {
      "text/html": [
       "<div>\n",
       "<style scoped>\n",
       "    .dataframe tbody tr th:only-of-type {\n",
       "        vertical-align: middle;\n",
       "    }\n",
       "\n",
       "    .dataframe tbody tr th {\n",
       "        vertical-align: top;\n",
       "    }\n",
       "\n",
       "    .dataframe thead th {\n",
       "        text-align: right;\n",
       "    }\n",
       "</style>\n",
       "<table border=\"1\" class=\"dataframe\">\n",
       "  <thead>\n",
       "    <tr style=\"text-align: right;\">\n",
       "      <th></th>\n",
       "      <th>author</th>\n",
       "      <th>domain</th>\n",
       "      <th>num_comments</th>\n",
       "      <th>score</th>\n",
       "      <th>subreddit</th>\n",
       "      <th>timestamp</th>\n",
       "      <th>title</th>\n",
       "    </tr>\n",
       "  </thead>\n",
       "  <tbody>\n",
       "    <tr>\n",
       "      <th>0</th>\n",
       "      <td>One_Day_Dead</td>\n",
       "      <td>ign.com</td>\n",
       "      <td>2</td>\n",
       "      <td>1</td>\n",
       "      <td>nottheonion</td>\n",
       "      <td>1570207585</td>\n",
       "      <td>wendy s made a tabletop rpg where you battle r...</td>\n",
       "    </tr>\n",
       "    <tr>\n",
       "      <th>1</th>\n",
       "      <td>mrjoepete</td>\n",
       "      <td>thedrive.com</td>\n",
       "      <td>0</td>\n",
       "      <td>1</td>\n",
       "      <td>nottheonion</td>\n",
       "      <td>1570206800</td>\n",
       "      <td>volkswagen golf r used as getaway car in milli...</td>\n",
       "    </tr>\n",
       "    <tr>\n",
       "      <th>2</th>\n",
       "      <td>PapayaSF</td>\n",
       "      <td>thejc.com</td>\n",
       "      <td>1</td>\n",
       "      <td>1</td>\n",
       "      <td>nottheonion</td>\n",
       "      <td>1570206630</td>\n",
       "      <td>university and college union apologises after ...</td>\n",
       "    </tr>\n",
       "    <tr>\n",
       "      <th>3</th>\n",
       "      <td>SuperCub</td>\n",
       "      <td>wtvm.com</td>\n",
       "      <td>1</td>\n",
       "      <td>1</td>\n",
       "      <td>nottheonion</td>\n",
       "      <td>1570206381</td>\n",
       "      <td>florida woman didn t get enough tomatoes so sh...</td>\n",
       "    </tr>\n",
       "    <tr>\n",
       "      <th>4</th>\n",
       "      <td>Planeguy58</td>\n",
       "      <td>cnn.com</td>\n",
       "      <td>0</td>\n",
       "      <td>1</td>\n",
       "      <td>nottheonion</td>\n",
       "      <td>1570205951</td>\n",
       "      <td>kamala harris calls on twitter ceo to suspend ...</td>\n",
       "    </tr>\n",
       "  </tbody>\n",
       "</table>\n",
       "</div>"
      ],
      "text/plain": [
       "         author        domain  num_comments  score    subreddit   timestamp  \\\n",
       "0  One_Day_Dead       ign.com             2      1  nottheonion  1570207585   \n",
       "1     mrjoepete  thedrive.com             0      1  nottheonion  1570206800   \n",
       "2      PapayaSF     thejc.com             1      1  nottheonion  1570206630   \n",
       "3      SuperCub      wtvm.com             1      1  nottheonion  1570206381   \n",
       "4    Planeguy58       cnn.com             0      1  nottheonion  1570205951   \n",
       "\n",
       "                                               title  \n",
       "0  wendy s made a tabletop rpg where you battle r...  \n",
       "1  volkswagen golf r used as getaway car in milli...  \n",
       "2  university and college union apologises after ...  \n",
       "3  florida woman didn t get enough tomatoes so sh...  \n",
       "4  kamala harris calls on twitter ceo to suspend ...  "
      ]
     },
     "execution_count": 14,
     "metadata": {},
     "output_type": "execute_result"
    }
   ],
   "source": [
    "# Call `clean_data(dataframe)` function\n",
    "clean_data(df_not_onion)"
   ]
  },
  {
   "cell_type": "code",
   "execution_count": 15,
   "metadata": {
    "ExecuteTime": {
     "end_time": "2019-10-04T16:49:17.365543Z",
     "start_time": "2019-10-04T16:49:17.335525Z"
    }
   },
   "outputs": [
    {
     "data": {
      "text/html": [
       "<div>\n",
       "<style scoped>\n",
       "    .dataframe tbody tr th:only-of-type {\n",
       "        vertical-align: middle;\n",
       "    }\n",
       "\n",
       "    .dataframe tbody tr th {\n",
       "        vertical-align: top;\n",
       "    }\n",
       "\n",
       "    .dataframe thead th {\n",
       "        text-align: right;\n",
       "    }\n",
       "</style>\n",
       "<table border=\"1\" class=\"dataframe\">\n",
       "  <thead>\n",
       "    <tr style=\"text-align: right;\">\n",
       "      <th></th>\n",
       "      <th>TheOnion</th>\n",
       "      <th>notheonion</th>\n",
       "    </tr>\n",
       "  </thead>\n",
       "  <tbody>\n",
       "    <tr>\n",
       "      <th>author</th>\n",
       "      <td>0</td>\n",
       "      <td>0</td>\n",
       "    </tr>\n",
       "    <tr>\n",
       "      <th>domain</th>\n",
       "      <td>0</td>\n",
       "      <td>0</td>\n",
       "    </tr>\n",
       "    <tr>\n",
       "      <th>num_comments</th>\n",
       "      <td>0</td>\n",
       "      <td>0</td>\n",
       "    </tr>\n",
       "    <tr>\n",
       "      <th>score</th>\n",
       "      <td>0</td>\n",
       "      <td>0</td>\n",
       "    </tr>\n",
       "    <tr>\n",
       "      <th>subreddit</th>\n",
       "      <td>0</td>\n",
       "      <td>0</td>\n",
       "    </tr>\n",
       "    <tr>\n",
       "      <th>timestamp</th>\n",
       "      <td>0</td>\n",
       "      <td>0</td>\n",
       "    </tr>\n",
       "    <tr>\n",
       "      <th>title</th>\n",
       "      <td>0</td>\n",
       "      <td>0</td>\n",
       "    </tr>\n",
       "  </tbody>\n",
       "</table>\n",
       "</div>"
      ],
      "text/plain": [
       "              TheOnion  notheonion\n",
       "author               0           0\n",
       "domain               0           0\n",
       "num_comments         0           0\n",
       "score                0           0\n",
       "subreddit            0           0\n",
       "timestamp            0           0\n",
       "title                0           0"
      ]
     },
     "execution_count": 15,
     "metadata": {},
     "output_type": "execute_result"
    }
   ],
   "source": [
    "# Create a DataFrame to check nulls\n",
    "pd.DataFrame([df_onion.isnull().sum(),df_not_onion.isnull().sum()], index=[\"TheOnion\",\"notheonion\"]).T"
   ]
  },
  {
   "cell_type": "code",
   "execution_count": 16,
   "metadata": {
    "ExecuteTime": {
     "end_time": "2019-10-04T16:49:17.458110Z",
     "start_time": "2019-10-04T16:49:17.432078Z"
    }
   },
   "outputs": [
    {
     "name": "stdout",
     "output_type": "stream",
     "text": [
      "TheOnion start date: 2015-07-27 06:25:47\n",
      "TheOnion end date: 2019-10-04 16:12:30\n",
      "nottheonion start date: 2019-07-17 23:23:21\n",
      "nottheonion end date: 2019-10-04 16:46:25\n"
     ]
    }
   ],
   "source": [
    "# Convert Unix Timestamp to Datetime\n",
    "df_onion['timestamp'] = pd.to_datetime(df_onion['timestamp'], unit='s')\n",
    "df_not_onion['timestamp'] = pd.to_datetime(df_not_onion['timestamp'], unit='s')\n",
    "\n",
    "# Show date-range of posts scraped from r/TheOnion and r/nottheonion\n",
    "print(\"TheOnion start date:\", df_onion['timestamp'].min())\n",
    "print(\"TheOnion end date:\", df_onion['timestamp'].max())\n",
    "print(\"nottheonion start date:\", df_not_onion['timestamp'].min())\n",
    "print(\"nottheonion end date:\", df_not_onion['timestamp'].max())"
   ]
  },
  {
   "cell_type": "code",
   "execution_count": 17,
   "metadata": {
    "ExecuteTime": {
     "end_time": "2019-10-04T16:49:17.579706Z",
     "start_time": "2019-10-04T16:49:17.567893Z"
    }
   },
   "outputs": [],
   "source": [
    "def bar_plot(x, y, title, color):    \n",
    "    \n",
    "    # Set up barplot \n",
    "    plt.figure(figsize=(9,5))\n",
    "    g=sns.barplot(x, y, color = color)    \n",
    "    ax=g\n",
    "\n",
    "    # Label the graph\n",
    "    plt.title(title, fontsize = 15)\n",
    "    plt.xticks(fontsize = 10)\n",
    "\n",
    "    # Enable bar values\n",
    "    # Code modified from http://robertmitchellv.com/blog-bar-chart-annotations-pandas-mpl.html\n",
    "    # create a list to collect the plt.patches data\n",
    "    totals = []\n",
    "\n",
    "    # find the values and append to list\n",
    "    for p in ax.patches:\n",
    "        totals.append(p.get_width())\n",
    "\n",
    "    # set individual bar lables using above list\n",
    "    total = sum(totals)\n",
    "\n",
    "    # set individual bar lables using above list\n",
    "    for p in ax.patches:\n",
    "        # get_width pulls left or right; get_y pushes up or down\n",
    "        ax.text(p.get_width()+.3, p.get_y()+.38, \\\n",
    "                int(p.get_width()), fontsize=10)"
   ]
  },
  {
   "cell_type": "markdown",
   "metadata": {},
   "source": [
    "r/TheOnion: Most Active Authors"
   ]
  },
  {
   "cell_type": "code",
   "execution_count": 18,
   "metadata": {
    "ExecuteTime": {
     "end_time": "2019-10-04T16:49:18.337103Z",
     "start_time": "2019-10-04T16:49:17.638306Z"
    }
   },
   "outputs": [
    {
     "data": {
      "image/png": "[encoded data removed]",
      "text/plain": [
       "<Figure size 648x360 with 1 Axes>"
      ]
     },
     "metadata": {
      "image/png": {
       "height": 320,
       "width": 637
      },
      "needs_background": "light"
     },
     "output_type": "display_data"
    }
   ],
   "source": [
    "# Set x values: # of posts \n",
    "df_onion_authors = df_onion['author'].value_counts() \n",
    "df_onion_authors = df_onion_authors[df_onion_authors > 100].sort_values(ascending=False)\n",
    "\n",
    "# Set y values: Authors \n",
    "df_onion_authors_index = list(df_onion_authors.index)\n",
    "\n",
    "# Call function\n",
    "bar_plot(df_onion_authors.values, df_onion_authors_index, 'Most Active Authors: r/TheOnion', 'r')"
   ]
  },
  {
   "cell_type": "markdown",
   "metadata": {},
   "source": [
    "13 authors shared over 100 posts, the most being 4,309 posts."
   ]
  },
  {
   "cell_type": "markdown",
   "metadata": {},
   "source": [
    "r/nottheonion: Most Active Authors"
   ]
  },
  {
   "cell_type": "code",
   "execution_count": 21,
   "metadata": {
    "ExecuteTime": {
     "end_time": "2019-10-04T16:50:21.982796Z",
     "start_time": "2019-10-04T16:50:21.969888Z"
    }
   },
   "outputs": [],
   "source": [
    "# Set x values: # of posts\n",
    "df_not_onion_authors = df_not_onion['author'].value_counts()[0:12]"
   ]
  },
  {
   "cell_type": "code",
   "execution_count": 22,
   "metadata": {
    "ExecuteTime": {
     "end_time": "2019-10-04T16:50:29.567744Z",
     "start_time": "2019-10-04T16:50:29.549269Z"
    }
   },
   "outputs": [
    {
     "data": {
      "text/plain": [
       "[deleted]             115\n",
       "Captain-Blitzed        97\n",
       "Levihartmusic          53\n",
       "tyw7                   47\n",
       "Nergaal                40\n",
       "emitremmus27           36\n",
       "my-surname-is-NASA     33\n",
       "One_Day_Dead           32\n",
       "koavf                  30\n",
       "DoremusJessup          30\n",
       "VonDrakken             29\n",
       "mosstacean             29\n",
       "Name: author, dtype: int64"
      ]
     },
     "execution_count": 22,
     "metadata": {},
     "output_type": "execute_result"
    }
   ],
   "source": [
    "df_not_onion_authors"
   ]
  },
  {
   "cell_type": "code",
   "execution_count": 23,
   "metadata": {
    "ExecuteTime": {
     "end_time": "2019-10-04T16:50:32.831251Z",
     "start_time": "2019-10-04T16:50:32.822052Z"
    }
   },
   "outputs": [
    {
     "data": {
      "text/plain": [
       "[deleted]          115\n",
       "Captain-Blitzed     97\n",
       "Levihartmusic       53\n",
       "Name: author, dtype: int64"
      ]
     },
     "execution_count": 23,
     "metadata": {},
     "output_type": "execute_result"
    }
   ],
   "source": [
    "df_not_onion_authors[df_not_onion_authors > 50].sort_values(ascending=False)"
   ]
  },
  {
   "cell_type": "code",
   "execution_count": 24,
   "metadata": {
    "ExecuteTime": {
     "end_time": "2019-10-04T16:50:33.350188Z",
     "start_time": "2019-10-04T16:50:33.341084Z"
    }
   },
   "outputs": [
    {
     "data": {
      "text/plain": [
       "[deleted]             115\n",
       "Captain-Blitzed        97\n",
       "Levihartmusic          53\n",
       "tyw7                   47\n",
       "Nergaal                40\n",
       "emitremmus27           36\n",
       "my-surname-is-NASA     33\n",
       "One_Day_Dead           32\n",
       "koavf                  30\n",
       "DoremusJessup          30\n",
       "VonDrakken             29\n",
       "mosstacean             29\n",
       "Name: author, dtype: int64"
      ]
     },
     "execution_count": 24,
     "metadata": {},
     "output_type": "execute_result"
    }
   ],
   "source": [
    "df_not_onion_authors"
   ]
  },
  {
   "cell_type": "code",
   "execution_count": 25,
   "metadata": {
    "ExecuteTime": {
     "end_time": "2019-10-04T16:50:34.016387Z",
     "start_time": "2019-10-04T16:50:34.012536Z"
    }
   },
   "outputs": [],
   "source": [
    "# Set y values: Authors\n",
    "df_not_onion_authors_index = list(df_not_onion_authors.index)"
   ]
  },
  {
   "cell_type": "code",
   "execution_count": 26,
   "metadata": {
    "ExecuteTime": {
     "end_time": "2019-10-04T16:50:34.796762Z",
     "start_time": "2019-10-04T16:50:34.493926Z"
    }
   },
   "outputs": [
    {
     "data": {
      "image/png": "[encoded data removed]",
      "text/plain": [
       "<Figure size 648x360 with 1 Axes>"
      ]
     },
     "metadata": {
      "image/png": {
       "height": 320,
       "width": 636
      },
      "needs_background": "light"
     },
     "output_type": "display_data"
    }
   ],
   "source": [
    "# Call function\n",
    "bar_plot(df_not_onion_authors.values, df_not_onion_authors_index, 'Most Active Authors: r/nottheonion','b')"
   ]
  },
  {
   "cell_type": "code",
   "execution_count": 27,
   "metadata": {
    "ExecuteTime": {
     "end_time": "2019-10-04T16:50:38.005573Z",
     "start_time": "2019-10-04T16:50:37.623977Z"
    }
   },
   "outputs": [
    {
     "data": {
      "image/png": "[encoded data removed]",
      "text/plain": [
       "<Figure size 648x360 with 1 Axes>"
      ]
     },
     "metadata": {
      "image/png": {
       "height": 320,
       "width": 669
      },
      "needs_background": "light"
     },
     "output_type": "display_data"
    }
   ],
   "source": [
    "# Set x values: # of posts\n",
    "df_onion_domain = df_onion['domain'].value_counts() \n",
    "df_onion_domain = df_onion_domain.sort_values(ascending=False).head(5)\n",
    "\n",
    "# Set y values: Domains \n",
    "df_onion_domain_index = list(df_onion_domain.index)\n",
    "\n",
    "# Call function\n",
    "bar_plot(df_onion_domain.values, df_onion_domain_index, 'Most Referenced Domains: r/TheOnion','r')"
   ]
  },
  {
   "cell_type": "markdown",
   "metadata": {},
   "source": [
    "Unsurprisingly, the most referenced domains from r/TheOnion are from The Onion. This subreddit allows articles from other news satire sites to be shared here as well."
   ]
  },
  {
   "cell_type": "code",
   "execution_count": 28,
   "metadata": {
    "ExecuteTime": {
     "end_time": "2019-10-04T16:50:41.374066Z",
     "start_time": "2019-10-04T16:50:41.103705Z"
    }
   },
   "outputs": [
    {
     "data": {
      "image/png": "[encoded data removed]",
      "text/plain": [
       "<Figure size 648x360 with 1 Axes>"
      ]
     },
     "metadata": {
      "image/png": {
       "height": 320,
       "width": 618
      },
      "needs_background": "light"
     },
     "output_type": "display_data"
    }
   ],
   "source": [
    "# Set x values: # of posts greater than 100\n",
    "df_nonion_domain = df_not_onion['domain'].value_counts() \n",
    "df_nonion_domain = df_nonion_domain.sort_values(ascending=False).head(5)\n",
    "\n",
    "# Set y values: Names of authors \n",
    "df_nonion_domain_index = list(df_nonion_domain.index)\n",
    "\n",
    "# Call function\n",
    "bar_plot(df_nonion_domain.values, df_nonion_domain_index, 'Most Referenced Domains: r/nottheonion','b')"
   ]
  },
  {
   "cell_type": "markdown",
   "metadata": {},
   "source": [
    "theguardian.com is the most referenced domain in r/nottheonion!"
   ]
  },
  {
   "cell_type": "markdown",
   "metadata": {},
   "source": [
    "Natural Language Processing (NLP):\n",
    "\n",
    "\n",
    "Here I use Count Vectorizer to continue my EDA and explore the most used words and combinations of words from each subreddit.\n",
    "\n"
   ]
  },
  {
   "cell_type": "code",
   "execution_count": 29,
   "metadata": {
    "ExecuteTime": {
     "end_time": "2019-10-04T16:50:43.062187Z",
     "start_time": "2019-10-04T16:50:43.037122Z"
    }
   },
   "outputs": [
    {
     "data": {
      "text/html": [
       "<div>\n",
       "<style scoped>\n",
       "    .dataframe tbody tr th:only-of-type {\n",
       "        vertical-align: middle;\n",
       "    }\n",
       "\n",
       "    .dataframe tbody tr th {\n",
       "        vertical-align: top;\n",
       "    }\n",
       "\n",
       "    .dataframe thead th {\n",
       "        text-align: right;\n",
       "    }\n",
       "</style>\n",
       "<table border=\"1\" class=\"dataframe\">\n",
       "  <thead>\n",
       "    <tr style=\"text-align: right;\">\n",
       "      <th></th>\n",
       "      <th>subreddit</th>\n",
       "      <th>title</th>\n",
       "    </tr>\n",
       "  </thead>\n",
       "  <tbody>\n",
       "    <tr>\n",
       "      <th>0</th>\n",
       "      <td>TheOnion</td>\n",
       "      <td>cool it this high schooler is really milking t...</td>\n",
       "    </tr>\n",
       "    <tr>\n",
       "      <th>1</th>\n",
       "      <td>TheOnion</td>\n",
       "      <td>this article from  should be archived as a cla...</td>\n",
       "    </tr>\n",
       "  </tbody>\n",
       "</table>\n",
       "</div>"
      ],
      "text/plain": [
       "  subreddit                                              title\n",
       "0  TheOnion  cool it this high schooler is really milking t...\n",
       "1  TheOnion  this article from  should be archived as a cla..."
      ]
     },
     "execution_count": 29,
     "metadata": {},
     "output_type": "execute_result"
    }
   ],
   "source": [
    "# Combine df_onion & df_not_onion with only 'subreddit' (target) and 'title' (predictor) columns\n",
    "df = pd.concat([df_onion[['subreddit', 'title']], df_not_onion[['subreddit', 'title']]], axis=0)\n",
    "\n",
    "#Reset the index\n",
    "df = df.reset_index(drop=True)\n",
    "\n",
    "# Preview head of df to show 'TheOnion' titles appear\n",
    "df.head(2)"
   ]
  },
  {
   "cell_type": "code",
   "execution_count": 30,
   "metadata": {
    "ExecuteTime": {
     "end_time": "2019-10-04T16:50:43.576697Z",
     "start_time": "2019-10-04T16:50:43.564620Z"
    }
   },
   "outputs": [
    {
     "data": {
      "text/html": [
       "<div>\n",
       "<style scoped>\n",
       "    .dataframe tbody tr th:only-of-type {\n",
       "        vertical-align: middle;\n",
       "    }\n",
       "\n",
       "    .dataframe tbody tr th {\n",
       "        vertical-align: top;\n",
       "    }\n",
       "\n",
       "    .dataframe thead th {\n",
       "        text-align: right;\n",
       "    }\n",
       "</style>\n",
       "<table border=\"1\" class=\"dataframe\">\n",
       "  <thead>\n",
       "    <tr style=\"text-align: right;\">\n",
       "      <th></th>\n",
       "      <th>subreddit</th>\n",
       "      <th>title</th>\n",
       "    </tr>\n",
       "  </thead>\n",
       "  <tbody>\n",
       "    <tr>\n",
       "      <th>26082</th>\n",
       "      <td>nottheonion</td>\n",
       "      <td>tupac superfan asked to resign from government...</td>\n",
       "    </tr>\n",
       "    <tr>\n",
       "      <th>26083</th>\n",
       "      <td>nottheonion</td>\n",
       "      <td>planned parenthood president forced out after ...</td>\n",
       "    </tr>\n",
       "  </tbody>\n",
       "</table>\n",
       "</div>"
      ],
      "text/plain": [
       "         subreddit                                              title\n",
       "26082  nottheonion  tupac superfan asked to resign from government...\n",
       "26083  nottheonion  planned parenthood president forced out after ..."
      ]
     },
     "execution_count": 30,
     "metadata": {},
     "output_type": "execute_result"
    }
   ],
   "source": [
    "# Preview head of df to show 'nottheonion' titles appear\n",
    "df.tail(2)"
   ]
  },
  {
   "cell_type": "markdown",
   "metadata": {},
   "source": [
    "Binarize Target subreddit\n",
    "TheOnion: 1\n",
    "nottheonion: 0"
   ]
  },
  {
   "cell_type": "code",
   "execution_count": 31,
   "metadata": {
    "ExecuteTime": {
     "end_time": "2019-10-04T16:50:44.473134Z",
     "start_time": "2019-10-04T16:50:44.457086Z"
    }
   },
   "outputs": [
    {
     "name": "stdout",
     "output_type": "stream",
     "text": [
      "(26084, 2)\n"
     ]
    },
    {
     "data": {
      "text/html": [
       "<div>\n",
       "<style scoped>\n",
       "    .dataframe tbody tr th:only-of-type {\n",
       "        vertical-align: middle;\n",
       "    }\n",
       "\n",
       "    .dataframe tbody tr th {\n",
       "        vertical-align: top;\n",
       "    }\n",
       "\n",
       "    .dataframe thead th {\n",
       "        text-align: right;\n",
       "    }\n",
       "</style>\n",
       "<table border=\"1\" class=\"dataframe\">\n",
       "  <thead>\n",
       "    <tr style=\"text-align: right;\">\n",
       "      <th></th>\n",
       "      <th>subreddit</th>\n",
       "      <th>title</th>\n",
       "    </tr>\n",
       "  </thead>\n",
       "  <tbody>\n",
       "    <tr>\n",
       "      <th>0</th>\n",
       "      <td>1</td>\n",
       "      <td>cool it this high schooler is really milking t...</td>\n",
       "    </tr>\n",
       "    <tr>\n",
       "      <th>1</th>\n",
       "      <td>1</td>\n",
       "      <td>this article from  should be archived as a cla...</td>\n",
       "    </tr>\n",
       "  </tbody>\n",
       "</table>\n",
       "</div>"
      ],
      "text/plain": [
       "   subreddit                                              title\n",
       "0          1  cool it this high schooler is really milking t...\n",
       "1          1  this article from  should be archived as a cla..."
      ]
     },
     "execution_count": 31,
     "metadata": {},
     "output_type": "execute_result"
    }
   ],
   "source": [
    "# Replace `TheOnion` with 1, `nottheonion` with 0\n",
    "df[\"subreddit\"] = df[\"subreddit\"].map({\"nottheonion\": 0, \"TheOnion\": 1})\n",
    "\n",
    "# Print shape of df\n",
    "print(df.shape)\n",
    "\n",
    "# Preview head of df to show 1s\n",
    "df.head(2)"
   ]
  },
  {
   "cell_type": "code",
   "execution_count": 32,
   "metadata": {
    "ExecuteTime": {
     "end_time": "2019-10-04T16:50:44.976368Z",
     "start_time": "2019-10-04T16:50:44.962684Z"
    }
   },
   "outputs": [
    {
     "data": {
      "text/html": [
       "<div>\n",
       "<style scoped>\n",
       "    .dataframe tbody tr th:only-of-type {\n",
       "        vertical-align: middle;\n",
       "    }\n",
       "\n",
       "    .dataframe tbody tr th {\n",
       "        vertical-align: top;\n",
       "    }\n",
       "\n",
       "    .dataframe thead th {\n",
       "        text-align: right;\n",
       "    }\n",
       "</style>\n",
       "<table border=\"1\" class=\"dataframe\">\n",
       "  <thead>\n",
       "    <tr style=\"text-align: right;\">\n",
       "      <th></th>\n",
       "      <th>subreddit</th>\n",
       "      <th>title</th>\n",
       "    </tr>\n",
       "  </thead>\n",
       "  <tbody>\n",
       "    <tr>\n",
       "      <th>26082</th>\n",
       "      <td>0</td>\n",
       "      <td>tupac superfan asked to resign from government...</td>\n",
       "    </tr>\n",
       "    <tr>\n",
       "      <th>26083</th>\n",
       "      <td>0</td>\n",
       "      <td>planned parenthood president forced out after ...</td>\n",
       "    </tr>\n",
       "  </tbody>\n",
       "</table>\n",
       "</div>"
      ],
      "text/plain": [
       "       subreddit                                              title\n",
       "26082          0  tupac superfan asked to resign from government...\n",
       "26083          0  planned parenthood president forced out after ..."
      ]
     },
     "execution_count": 32,
     "metadata": {},
     "output_type": "execute_result"
    }
   ],
   "source": [
    "# Preview tail of df to show 0s\n",
    "df.tail(2)"
   ]
  },
  {
   "cell_type": "markdown",
   "metadata": {},
   "source": [
    "Count Vectorize df where subreddit is 1\n",
    "\n",
    "ngram_range = (1,1)"
   ]
  },
  {
   "cell_type": "code",
   "execution_count": 33,
   "metadata": {
    "ExecuteTime": {
     "end_time": "2019-10-04T16:50:46.382235Z",
     "start_time": "2019-10-04T16:50:46.044408Z"
    }
   },
   "outputs": [
    {
     "name": "stdout",
     "output_type": "stream",
     "text": [
      "(14224, 13648)\n"
     ]
    }
   ],
   "source": [
    "# Set variables to show TheOnion Titles\n",
    "mask_on = df['subreddit'] == 1\n",
    "df_onion_titles = df[mask_on]['title']\n",
    "\n",
    "# Instantiate a CountVectorizer\n",
    "cv1 = CountVectorizer(stop_words = 'english')\n",
    "\n",
    "# Fit and transform the vectorizer on our corpus\n",
    "onion_cvec = cv1.fit_transform(df_onion_titles)\n",
    "\n",
    "# Convert onion_cvec into a DataFrame\n",
    "onion_cvec_df = pd.DataFrame(onion_cvec.toarray(),\n",
    "                   columns=cv1.get_feature_names())\n",
    "\n",
    "# Inspect head of Onion Titles cvec\n",
    "print(onion_cvec_df.shape)"
   ]
  },
  {
   "cell_type": "markdown",
   "metadata": {},
   "source": [
    "Count Vectorize df where subreddit is 0\n",
    "\n",
    "ngram_range = (1,1)"
   ]
  },
  {
   "cell_type": "code",
   "execution_count": 34,
   "metadata": {
    "ExecuteTime": {
     "end_time": "2019-10-04T16:50:47.598779Z",
     "start_time": "2019-10-04T16:50:47.221238Z"
    }
   },
   "outputs": [
    {
     "name": "stdout",
     "output_type": "stream",
     "text": [
      "(11860, 14369)\n"
     ]
    }
   ],
   "source": [
    "# Set variables to show NotTheOnion Titles\n",
    "mask_no = df['subreddit'] == 0\n",
    "df_not_onion_titles = df[mask_no]['title']\n",
    "\n",
    "# Instantiate a CountVectorizer\n",
    "cv2 = CountVectorizer(stop_words = 'english')\n",
    "\n",
    "# Fit and transform the vectorizer on our corpus\n",
    "not_onion_cvec = cv2.fit_transform(df_not_onion_titles)\n",
    "\n",
    "# Convert onion_cvec into a DataFrame\n",
    "not_onion_cvec_df = pd.DataFrame(not_onion_cvec.toarray(),\n",
    "                   columns=cv2.get_feature_names())\n",
    "\n",
    "# Inspect head of Not Onion Titles cvec\n",
    "print(not_onion_cvec_df.shape)"
   ]
  },
  {
   "cell_type": "code",
   "execution_count": 35,
   "metadata": {
    "ExecuteTime": {
     "end_time": "2019-10-04T16:50:54.495949Z",
     "start_time": "2019-10-04T16:50:48.632544Z"
    }
   },
   "outputs": [
    {
     "data": {
      "image/png": "[encoded data removed]",
      "text/plain": [
       "<Figure size 648x360 with 1 Axes>"
      ]
     },
     "metadata": {
      "image/png": {
       "height": 320,
       "width": 558
      },
      "needs_background": "light"
     },
     "output_type": "display_data"
    }
   ],
   "source": [
    "# Set up variables to contain top 5 most used words in Onion\n",
    "onion_wc = onion_cvec_df.sum(axis = 0)\n",
    "onion_top_5 = onion_wc.sort_values(ascending=False).head(5)\n",
    "\n",
    "# Call function\n",
    "bar_plot(onion_top_5.values, onion_top_5.index, 'Top 5 unigrams on r/TheOnion','r')"
   ]
  },
  {
   "cell_type": "code",
   "execution_count": 36,
   "metadata": {
    "ExecuteTime": {
     "end_time": "2019-10-04T16:50:57.218137Z",
     "start_time": "2019-10-04T16:50:54.938692Z"
    }
   },
   "outputs": [
    {
     "data": {
      "image/png": "[encoded data removed]",
      "text/plain": [
       "<Figure size 648x360 with 1 Axes>"
      ]
     },
     "metadata": {
      "image/png": {
       "height": 320,
       "width": 562
      },
      "needs_background": "light"
     },
     "output_type": "display_data"
    }
   ],
   "source": [
    "# Set up variables to contain top 5 most used words in Onion\n",
    "nonion_wc = not_onion_cvec_df.sum(axis = 0)\n",
    "nonion_top_5 = nonion_wc.sort_values(ascending=False).head(5)\n",
    "\n",
    "# Call function\n",
    "bar_plot(nonion_top_5.values, nonion_top_5.index, 'Top 5 unigrams on r/nottheonion','b')"
   ]
  },
  {
   "cell_type": "markdown",
   "metadata": {},
   "source": [
    "Common Unigrams between Top 5 in r/TheOnion & r/nottheonion\n"
   ]
  },
  {
   "cell_type": "code",
   "execution_count": 37,
   "metadata": {
    "ExecuteTime": {
     "end_time": "2019-10-04T16:50:57.587812Z",
     "start_time": "2019-10-04T16:50:57.578121Z"
    }
   },
   "outputs": [
    {
     "data": {
      "text/plain": [
       "{'man', 'trump'}"
      ]
     },
     "execution_count": 37,
     "metadata": {},
     "output_type": "execute_result"
    }
   ],
   "source": [
    "# Create list of unique words in top five\n",
    "not_onion_5_set = set(nonion_top_5.index)\n",
    "onion_5_set = set(onion_top_5.index)\n",
    "\n",
    "# Return common words\n",
    "common_unigrams = onion_5_set.intersection(not_onion_5_set)\n",
    "common_unigrams"
   ]
  },
  {
   "cell_type": "markdown",
   "metadata": {},
   "source": [
    "Count Vectorize df where subreddit is 1\n",
    "\n",
    "ngram_range = (2,2)"
   ]
  },
  {
   "cell_type": "code",
   "execution_count": 38,
   "metadata": {
    "ExecuteTime": {
     "end_time": "2019-10-04T16:50:58.364892Z",
     "start_time": "2019-10-04T16:50:57.899103Z"
    }
   },
   "outputs": [
    {
     "name": "stdout",
     "output_type": "stream",
     "text": [
      "(14224, 44501)\n"
     ]
    }
   ],
   "source": [
    "# Set variables to show TheOnion Titles\n",
    "mask = df['subreddit'] == 1\n",
    "df_onion_titles = df[mask]['title']\n",
    "\n",
    "# Instantiate a CountVectorizer\n",
    "cv = CountVectorizer(stop_words = 'english', ngram_range=(2,2))\n",
    "\n",
    "# Fit and transform the vectorizer on our corpus\n",
    "onion_cvec = cv.fit_transform(df_onion_titles)\n",
    "\n",
    "# Convert onion_cvec into a DataFrame\n",
    "onion_cvec_df = pd.DataFrame(onion_cvec.toarray(),\n",
    "                   columns=cv.get_feature_names())\n",
    "\n",
    "# Inspect head of Onion Titles cvec\n",
    "print(onion_cvec_df.shape)"
   ]
  },
  {
   "cell_type": "markdown",
   "metadata": {},
   "source": [
    "Count Vectorize df where subreddit is 0\n",
    "\n",
    "ngram_range = (2,2)"
   ]
  },
  {
   "cell_type": "code",
   "execution_count": 39,
   "metadata": {
    "ExecuteTime": {
     "end_time": "2019-10-04T16:51:01.330667Z",
     "start_time": "2019-10-04T16:51:00.719476Z"
    }
   },
   "outputs": [
    {
     "name": "stdout",
     "output_type": "stream",
     "text": [
      "(11860, 58603)\n"
     ]
    }
   ],
   "source": [
    "# Set variables to show NotTheOnion Titles\n",
    "mask = df['subreddit'] == 0\n",
    "df_not_onion_titles = df[mask]['title']\n",
    "\n",
    "# Instantiate a CountVectorizer\n",
    "cv = CountVectorizer(stop_words = 'english', ngram_range=(2,2))\n",
    "\n",
    "# Fit and transform the vectorizer on our corpus\n",
    "not_onion_cvec = cv.fit_transform(df_not_onion_titles)\n",
    "\n",
    "# Convert onion_cvec into a DataFrame\n",
    "not_onion_cvec_df = pd.DataFrame(not_onion_cvec.toarray(),\n",
    "                   columns=cv.get_feature_names())\n",
    "\n",
    "# Inspect head of Not Onion Titles cvec\n",
    "print(not_onion_cvec_df.shape)"
   ]
  },
  {
   "cell_type": "markdown",
   "metadata": {},
   "source": [
    "r/TheOnion: Top 5 Bigrams"
   ]
  },
  {
   "cell_type": "code",
   "execution_count": 40,
   "metadata": {
    "ExecuteTime": {
     "end_time": "2019-10-04T16:51:21.592706Z",
     "start_time": "2019-10-04T16:51:04.337021Z"
    }
   },
   "outputs": [
    {
     "data": {
      "image/png": "[encoded data removed]",
      "text/plain": [
       "<Figure size 648x360 with 1 Axes>"
      ]
     },
     "metadata": {
      "image/png": {
       "height": 320,
       "width": 595
      },
      "needs_background": "light"
     },
     "output_type": "display_data"
    }
   ],
   "source": [
    "# Set up variables to contain top 5 most used bigrams in r/TheOnion\n",
    "onion_wc = onion_cvec_df.sum(axis = 0)\n",
    "onion_top_5 = onion_wc.sort_values(ascending=False).head(5)\n",
    "\n",
    "# Call function\n",
    "bar_plot(onion_top_5.values, onion_top_5.index, 'Top 5 bigrams on r/TheOnion','r')"
   ]
  },
  {
   "cell_type": "markdown",
   "metadata": {},
   "source": [
    "r/nottheonion: Top 5 Bigrams"
   ]
  },
  {
   "cell_type": "code",
   "execution_count": 41,
   "metadata": {
    "ExecuteTime": {
     "end_time": "2019-10-04T16:51:38.846047Z",
     "start_time": "2019-10-04T16:51:22.777117Z"
    }
   },
   "outputs": [
    {
     "data": {
      "image/png": "[encoded data removed]",
      "text/plain": [
       "<Figure size 648x360 with 1 Axes>"
      ]
     },
     "metadata": {
      "image/png": {
       "height": 320,
       "width": 593
      },
      "needs_background": "light"
     },
     "output_type": "display_data"
    }
   ],
   "source": [
    "# Set up variables to contain top 5 most used bigrams in r/nottheonion\n",
    "nonion_wc = not_onion_cvec_df.sum(axis = 0)\n",
    "nonion_top_5 = nonion_wc.sort_values(ascending=False).head(5)\n",
    "\n",
    "# Call function\n",
    "bar_plot(nonion_top_5.values, nonion_top_5.index, 'Top 5 bigrams on r/nottheonion','b')"
   ]
  },
  {
   "cell_type": "markdown",
   "metadata": {},
   "source": [
    "Common Bigrams between Top 5 in r/TheOnion & r/nottheonion\n"
   ]
  },
  {
   "cell_type": "code",
   "execution_count": 42,
   "metadata": {
    "ExecuteTime": {
     "end_time": "2019-10-04T16:51:39.861689Z",
     "start_time": "2019-10-04T16:51:39.855073Z"
    }
   },
   "outputs": [
    {
     "data": {
      "text/plain": [
       "{'year old'}"
      ]
     },
     "execution_count": 42,
     "metadata": {},
     "output_type": "execute_result"
    }
   ],
   "source": [
    "not_onion_5_list = set(nonion_top_5.index)\n",
    "onion_5_list = set(onion_top_5.index)\n",
    "\n",
    "# Return common words\n",
    "common_bigrams = onion_5_list.intersection(not_onion_5_list)\n",
    "common_bigrams"
   ]
  },
  {
   "cell_type": "markdown",
   "metadata": {},
   "source": [
    "Take out {'man', 'new', 'old', 'people', 'say', 'trump', 'woman', 'year'} from dataset when modeling, since these words occur frequently in both subreddits."
   ]
  },
  {
   "cell_type": "markdown",
   "metadata": {},
   "source": [
    "Create custom stop_words to include common frequent words\n",
    "Referencing the common most-used words, add them to a customized stop_words list."
   ]
  },
  {
   "cell_type": "code",
   "execution_count": 43,
   "metadata": {
    "ExecuteTime": {
     "end_time": "2019-10-04T16:51:40.562712Z",
     "start_time": "2019-10-04T16:51:40.554003Z"
    }
   },
   "outputs": [],
   "source": [
    "# Create lists \n",
    "custom = stop_words.ENGLISH_STOP_WORDS\n",
    "custom = list(custom)\n",
    "common_unigrams = list(common_unigrams)\n",
    "common_bigrams = list(common_bigrams)\n",
    "\n",
    "# Append unigrams to list \n",
    "for i in common_unigrams:\n",
    "    custom.append(i)\n",
    "\n",
    "    \n",
    "# Append bigrams to list \n",
    "for i in common_bigrams:\n",
    "    split_words = i.split(\" \")\n",
    "    for word in split_words:\n",
    "        custom.append(word)"
   ]
  },
  {
   "cell_type": "markdown",
   "metadata": {},
   "source": [
    "Modeling\n",
    "Here I conduct model-prep and use Pipeline and GridSearch to determine the most optimal model to run my data on."
   ]
  },
  {
   "cell_type": "markdown",
   "metadata": {},
   "source": [
    "Baseline Score"
   ]
  },
  {
   "cell_type": "code",
   "execution_count": 44,
   "metadata": {
    "ExecuteTime": {
     "end_time": "2019-10-04T16:51:41.334403Z",
     "start_time": "2019-10-04T16:51:41.231227Z"
    }
   },
   "outputs": [
    {
     "data": {
      "text/plain": [
       "1    0.545315\n",
       "0    0.454685\n",
       "Name: subreddit, dtype: float64"
      ]
     },
     "execution_count": 44,
     "metadata": {},
     "output_type": "execute_result"
    }
   ],
   "source": [
    "# Baseline score\n",
    "df['subreddit'].value_counts(normalize=True)"
   ]
  },
  {
   "cell_type": "markdown",
   "metadata": {},
   "source": [
    "I expect my model to be better than 54%. The majority class is 1, or, TheOnion. If the model is not better than 54%, I know the model is not performing well."
   ]
  },
  {
   "cell_type": "code",
   "execution_count": 45,
   "metadata": {
    "ExecuteTime": {
     "end_time": "2019-10-04T16:51:42.038717Z",
     "start_time": "2019-10-04T16:51:42.035459Z"
    }
   },
   "outputs": [],
   "source": [
    "#Set X (predictor) and y (target) variables\n",
    "X = df['title']\n",
    "y = df['subreddit']"
   ]
  },
  {
   "cell_type": "code",
   "execution_count": 46,
   "metadata": {
    "ExecuteTime": {
     "end_time": "2019-10-04T16:51:42.763218Z",
     "start_time": "2019-10-04T16:51:42.715167Z"
    }
   },
   "outputs": [],
   "source": [
    "#Train/Test Split\n",
    "X_train, X_test, y_train, y_test = train_test_split(X,\n",
    "                                                    y,\n",
    "                                                    random_state=42,\n",
    "                                                    stratify=y)"
   ]
  },
  {
   "cell_type": "markdown",
   "metadata": {},
   "source": [
    "Model 1: CountVectorizer & Logistic Regression (Best Coefficient Interpretability)\n"
   ]
  },
  {
   "cell_type": "code",
   "execution_count": 47,
   "metadata": {
    "ExecuteTime": {
     "end_time": "2019-10-04T16:52:23.122739Z",
     "start_time": "2019-10-04T16:51:43.468025Z"
    }
   },
   "outputs": [
    {
     "name": "stdout",
     "output_type": "stream",
     "text": [
      "Best score: 0.8504830547462046\n",
      "Train score 0.9617645555385166\n",
      "Test score 0.8521699125900936\n"
     ]
    },
    {
     "data": {
      "text/plain": [
       "{'cvec__ngram_range': (1, 1), 'cvec__stop_words': None, 'lr__C': 1}"
      ]
     },
     "execution_count": 47,
     "metadata": {},
     "output_type": "execute_result"
    }
   ],
   "source": [
    "pipe = Pipeline([('cvec', CountVectorizer()),    \n",
    "                 ('lr', LogisticRegression(solver='liblinear'))])\n",
    "\n",
    "# Tune GridSearchCV\n",
    "pipe_params = {'cvec__stop_words': [None, 'english', custom],\n",
    "               'cvec__ngram_range': [(1,1), (2,2), (1,3)],\n",
    "               'lr__C': [0.01, 1]}\n",
    "\n",
    "gs = GridSearchCV(pipe, param_grid=pipe_params, cv=3)\n",
    "gs.fit(X_train, y_train);\n",
    "print(\"Best score:\", gs.best_score_)\n",
    "print(\"Train score\", gs.score(X_train, y_train))\n",
    "print(\"Test score\", gs.score(X_test, y_test))\n",
    "\n",
    "gs.best_params_\n"
   ]
  },
  {
   "cell_type": "markdown",
   "metadata": {},
   "source": [
    "Throughout my model testing, none of the stop_word lists were chosen as a best parameter. So from here on out, I omit them from my parameter selection. Additionally, while the model is overfit, I am optimizing to get the highest accuracy score in my test set."
   ]
  },
  {
   "cell_type": "markdown",
   "metadata": {},
   "source": [
    "Model 2: TfidfVectorize & Logistic Regression\n"
   ]
  },
  {
   "cell_type": "code",
   "execution_count": 48,
   "metadata": {
    "ExecuteTime": {
     "end_time": "2019-10-04T16:53:30.491993Z",
     "start_time": "2019-10-04T16:52:24.308225Z"
    }
   },
   "outputs": [
    {
     "name": "stdout",
     "output_type": "stream",
     "text": [
      "Best score: 0.8411286612482748\n",
      "Train score 0.9145325359096254\n",
      "Test score 0.8446557276491335\n"
     ]
    },
    {
     "data": {
      "text/plain": [
       "{'lr__C': 1,\n",
       " 'tvect__max_df': 0.75,\n",
       " 'tvect__min_df': 3,\n",
       " 'tvect__ngram_range': (1, 3)}"
      ]
     },
     "execution_count": 48,
     "metadata": {},
     "output_type": "execute_result"
    }
   ],
   "source": [
    "pipe = Pipeline([('tvect', TfidfVectorizer()),    \n",
    "                 ('lr', LogisticRegression(solver='liblinear'))])\n",
    "\n",
    "# Tune GridSearchCV\n",
    "pipe_params = {'tvect__max_df': [.75, .98, 1.0],\n",
    "               'tvect__min_df': [2, 3, 5],\n",
    "               'tvect__ngram_range': [(1,1), (1,2), (1,3)],\n",
    "               'lr__C': [1]}\n",
    "\n",
    "gs = GridSearchCV(pipe, param_grid=pipe_params, cv=3)\n",
    "gs.fit(X_train, y_train);\n",
    "print(\"Best score:\", gs.best_score_)\n",
    "print(\"Train score\", gs.score(X_train, y_train))\n",
    "print(\"Test score\", gs.score(X_test, y_test))\n",
    "\n",
    "gs.best_params_\n"
   ]
  },
  {
   "cell_type": "markdown",
   "metadata": {},
   "source": [
    "This model is also overfit. However, Model 1 performed with a better test score when comparing Logistic Regression models.\n",
    "\n"
   ]
  },
  {
   "cell_type": "markdown",
   "metadata": {},
   "source": [
    "Model 3: CountVectorizer & MultinomialNB (Best Accuracy Score)"
   ]
  },
  {
   "cell_type": "code",
   "execution_count": 49,
   "metadata": {
    "ExecuteTime": {
     "end_time": "2019-10-04T16:53:42.405874Z",
     "start_time": "2019-10-04T16:53:31.199077Z"
    }
   },
   "outputs": [
    {
     "name": "stdout",
     "output_type": "stream",
     "text": [
      "Best score: 0.8860093032765936\n",
      "Train score 0.9968818688340234\n",
      "Test score 0.8874405765986811\n"
     ]
    },
    {
     "data": {
      "text/plain": [
       "{'cvec__ngram_range': (1, 3), 'nb__alpha': 0.36}"
      ]
     },
     "execution_count": 49,
     "metadata": {},
     "output_type": "execute_result"
    }
   ],
   "source": [
    "pipe = Pipeline([('cvec', CountVectorizer()),    \n",
    "                 ('nb', MultinomialNB())])\n",
    "\n",
    "# Tune GridSearchCV\n",
    "pipe_params = {'cvec__ngram_range': [(1,1),(1,3)],\n",
    "               'nb__alpha': [.36, .6]}\n",
    "\n",
    "gs = GridSearchCV(pipe, param_grid=pipe_params, cv=3)\n",
    "gs.fit(X_train, y_train);\n",
    "print(\"Best score:\", gs.best_score_)\n",
    "print(\"Train score\", gs.score(X_train, y_train))\n",
    "print(\"Test score\", gs.score(X_test, y_test))\n",
    "\n",
    "gs.best_params_"
   ]
  },
  {
   "cell_type": "markdown",
   "metadata": {},
   "source": [
    "The model is overfit, but as I mentioned, I am optimizing for accuracy. I want to ensure that all predictions are correct. That is, all posts from r/TheOnion must be classified as being from the subreddit r/TheOnion, and all posts from r/nottheonion must be classified as being from the subreddit r/nottheonion. This model gave me my best test accuracy score."
   ]
  },
  {
   "cell_type": "markdown",
   "metadata": {},
   "source": [
    "Model 4: TfidfVectorizer & MultinomialNB"
   ]
  },
  {
   "cell_type": "code",
   "execution_count": 50,
   "metadata": {
    "ExecuteTime": {
     "end_time": "2019-10-04T16:55:08.783374Z",
     "start_time": "2019-10-04T16:53:43.166744Z"
    }
   },
   "outputs": [
    {
     "name": "stdout",
     "output_type": "stream",
     "text": [
      "Best score: 0.8568215508868783\n",
      "Train score 0.9215355518069825\n",
      "Test score 0.8526299647293359\n"
     ]
    },
    {
     "data": {
      "text/plain": [
       "{'nb__alpha': 0.1,\n",
       " 'tvect__max_df': 0.75,\n",
       " 'tvect__min_df': 4,\n",
       " 'tvect__ngram_range': (1, 2)}"
      ]
     },
     "execution_count": 50,
     "metadata": {},
     "output_type": "execute_result"
    }
   ],
   "source": [
    "pipe = Pipeline([('tvect', TfidfVectorizer()),    \n",
    "                 ('nb', MultinomialNB())])\n",
    "\n",
    "# Tune GridSearchCV\n",
    "pipe_params = {'tvect__max_df': [.75, .98],\n",
    "               'tvect__min_df': [4, 5],\n",
    "               'tvect__ngram_range': [(1,2), (1,3)],\n",
    "               'nb__alpha': [0.1, 1]}\n",
    "\n",
    "gs = GridSearchCV(pipe, param_grid=pipe_params, cv=5)\n",
    "gs.fit(X_train, y_train);\n",
    "print(\"Best score:\", gs.best_score_)\n",
    "print(\"Train score\", gs.score(X_train, y_train))\n",
    "print(\"Test score\", gs.score(X_test, y_test))\n",
    "\n",
    "gs.best_params_"
   ]
  },
  {
   "cell_type": "markdown",
   "metadata": {},
   "source": [
    "This model is overfit. When comparing test scores of my MultinomialNB models, Model 3 performs better.\n"
   ]
  },
  {
   "cell_type": "markdown",
   "metadata": {},
   "source": [
    "Best Models\n",
    "In this section, I take my two optimal models and run them. The first model, CountVectorizer & MultinomialNB, will be used to convey a confusion matrix\n",
    "which will show all evaluation scores. The second model, CountVectorizer & Logistic Regression, will be used to interpret my coefficients."
   ]
  },
  {
   "cell_type": "markdown",
   "metadata": {},
   "source": [
    "CountVectorizer & MultinomialNB: Best Score"
   ]
  },
  {
   "cell_type": "code",
   "execution_count": 51,
   "metadata": {
    "ExecuteTime": {
     "end_time": "2019-10-04T16:55:11.411329Z",
     "start_time": "2019-10-04T16:55:09.530607Z"
    }
   },
   "outputs": [
    {
     "name": "stdout",
     "output_type": "stream",
     "text": [
      "0.8874405765986811\n"
     ]
    }
   ],
   "source": [
    "#Instantiate the classifier and vectorizer\n",
    "nb = MultinomialNB(alpha = 0.36)\n",
    "cvec = CountVectorizer(ngram_range= (1, 3))\n",
    "\n",
    "# Fit and transform the vectorizor\n",
    "cvec.fit(X_train)\n",
    "\n",
    "Xcvec_train = cvec.transform(X_train)\n",
    "Xcvec_test = cvec.transform(X_test)\n",
    "\n",
    "# Fit the classifier\n",
    "nb.fit(Xcvec_train,y_train)\n",
    "\n",
    "# Create the predictions for Y training data\n",
    "preds = nb.predict(Xcvec_test)\n",
    "\n",
    "print(nb.score(Xcvec_test, y_test))"
   ]
  },
  {
   "cell_type": "markdown",
   "metadata": {},
   "source": [
    "Confusion Matrix"
   ]
  },
  {
   "cell_type": "code",
   "execution_count": 52,
   "metadata": {
    "ExecuteTime": {
     "end_time": "2019-10-04T16:55:12.176484Z",
     "start_time": "2019-10-04T16:55:12.165249Z"
    }
   },
   "outputs": [
    {
     "data": {
      "text/plain": [
       "array([[2583,  382],\n",
       "       [ 352, 3204]])"
      ]
     },
     "execution_count": 52,
     "metadata": {},
     "output_type": "execute_result"
    }
   ],
   "source": [
    "# Create a confusion matrix\n",
    "cnf_matrix = metrics.confusion_matrix(y_test, preds)\n",
    "cnf_matrix"
   ]
  },
  {
   "cell_type": "code",
   "execution_count": 53,
   "metadata": {
    "ExecuteTime": {
     "end_time": "2019-10-04T16:55:13.154775Z",
     "start_time": "2019-10-04T16:55:12.937834Z"
    }
   },
   "outputs": [
    {
     "data": {
      "text/plain": [
       "Text(0.5, 257.44, 'Predicted label')"
      ]
     },
     "execution_count": 53,
     "metadata": {},
     "output_type": "execute_result"
    },
    {
     "data": {
      "image/png": "[encoded data removed]",
      "text/plain": [
       "<Figure size 432x288 with 2 Axes>"
      ]
     },
     "metadata": {
      "image/png": {
       "height": 303,
       "width": 423
      },
      "needs_background": "light"
     },
     "output_type": "display_data"
    }
   ],
   "source": [
    "# Code from https://www.datacamp.com/community/tutorials/understanding-logistic-regression-python\n",
    "\n",
    "# name  of classes\n",
    "class_names=[0,1] \n",
    "\n",
    "# Set fig and axes \n",
    "fig, ax = plt.subplots()\n",
    "tick_marks = np.arange(len(class_names))\n",
    "plt.xticks(tick_marks, class_names)\n",
    "plt.yticks(tick_marks, class_names)\n",
    "\n",
    "# Create heatmap\n",
    "sns.heatmap(pd.DataFrame(cnf_matrix), annot=True, cmap=\"YlGnBu\" ,fmt='g')\n",
    "ax.xaxis.set_label_position(\"top\")\n",
    "plt.tight_layout()\n",
    "plt.title('Confusion matrix', y=1.1)\n",
    "plt.ylabel('Actual label')\n",
    "plt.xlabel('Predicted label')"
   ]
  },
  {
   "cell_type": "code",
   "execution_count": 54,
   "metadata": {
    "ExecuteTime": {
     "end_time": "2019-10-04T16:55:27.684393Z",
     "start_time": "2019-10-04T16:55:27.674960Z"
    }
   },
   "outputs": [],
   "source": [
    "# Assign True Neg, False Pos, False Neg, True Pos variables\n",
    "cnf_matrix = np.array(cnf_matrix).tolist()\n",
    "\n",
    "tn_fp, fn_tp = cnf_matrix\n",
    "\n",
    "tn, fp = tn_fp\n",
    "fn, tp = fn_tp"
   ]
  },
  {
   "cell_type": "code",
   "execution_count": 55,
   "metadata": {
    "ExecuteTime": {
     "end_time": "2019-10-04T16:55:28.856472Z",
     "start_time": "2019-10-04T16:55:28.837836Z"
    }
   },
   "outputs": [
    {
     "name": "stdout",
     "output_type": "stream",
     "text": [
      "Accuracy: 88.74 %\n",
      "Precision: 89.35 %\n",
      "Recall: 90.1 %\n",
      "Specificity: 87.12 %\n",
      "Misclassification Rate: 12.44 %\n"
     ]
    }
   ],
   "source": [
    "# Print Scores \n",
    "\n",
    "print(\"Accuracy:\",round(metrics.accuracy_score(y_test, preds)*100, 2),'%')\n",
    "print(\"Precision:\",round(metrics.precision_score(y_test, preds)*100, 2), '%')\n",
    "print(\"Recall:\",round(metrics.recall_score(y_test, preds)*100, 2), '%')\n",
    "print(\"Specificity:\", round((tn/(tn+fp))*100, 2), '%')\n",
    "print(\"Misclassification Rate:\", round((fp+fn)/(tn+fp+fn+tn)*100, 2), '%')"
   ]
  },
  {
   "cell_type": "markdown",
   "metadata": {},
   "source": [
    "CountVectorizer & Logistic Regression: Best Coefficient Interpretability\n"
   ]
  },
  {
   "cell_type": "code",
   "execution_count": 56,
   "metadata": {
    "ExecuteTime": {
     "end_time": "2019-10-04T16:55:29.830435Z",
     "start_time": "2019-10-04T16:55:29.826227Z"
    }
   },
   "outputs": [],
   "source": [
    "# Customize stop_words to include `onion` so that it doesn't appear\n",
    "# in coefficients \n",
    "\n",
    "stop_words_onion = stop_words.ENGLISH_STOP_WORDS\n",
    "stop_words_onion = list(stop_words_onion)\n",
    "stop_words_onion.append('onion')"
   ]
  },
  {
   "cell_type": "code",
   "execution_count": 57,
   "metadata": {
    "ExecuteTime": {
     "end_time": "2019-10-04T16:55:31.305368Z",
     "start_time": "2019-10-04T16:55:30.754769Z"
    }
   },
   "outputs": [
    {
     "name": "stdout",
     "output_type": "stream",
     "text": [
      "0.8484894954761539\n"
     ]
    }
   ],
   "source": [
    "#Instantiate the classifier and vectorizer\n",
    "lr = LogisticRegression(C = 1.0, solver='liblinear')\n",
    "cvec2 = CountVectorizer(stop_words = stop_words_onion)\n",
    "\n",
    "# Fit and transform the vectorizor\n",
    "cvec2.fit(X_train)\n",
    "\n",
    "Xcvec2_train = cvec2.transform(X_train)\n",
    "Xcvec2_test = cvec2.transform(X_test)\n",
    "\n",
    "# Fit the classifier\n",
    "lr.fit(Xcvec2_train,y_train)\n",
    "\n",
    "# Create the predictions for Y training data\n",
    "lr_preds = lr.predict(Xcvec2_test)\n",
    "\n",
    "print(lr.score(Xcvec2_test, y_test))"
   ]
  },
  {
   "cell_type": "markdown",
   "metadata": {},
   "source": [
    "Coefficient Analysis"
   ]
  },
  {
   "cell_type": "code",
   "execution_count": 58,
   "metadata": {
    "ExecuteTime": {
     "end_time": "2019-10-04T16:55:32.593054Z",
     "start_time": "2019-10-04T16:55:32.162525Z"
    }
   },
   "outputs": [
    {
     "data": {
      "image/png": "[encoded data removed]",
      "text/plain": [
       "<Figure size 576x432 with 1 Axes>"
      ]
     },
     "metadata": {
      "image/png": {
       "height": 406,
       "width": 529
      },
      "needs_background": "light"
     },
     "output_type": "display_data"
    }
   ],
   "source": [
    "# Create list of logistic regression coefficients \n",
    "lr_coef = np.array(lr.coef_).tolist()\n",
    "lr_coef = lr_coef[0]\n",
    "\n",
    "# create dataframe from lasso coef\n",
    "lr_coef = pd.DataFrame(np.round_(lr_coef, decimals=3), \n",
    "cvec2.get_feature_names(), columns = [\"penalized_regression_coefficients\"])\n",
    "\n",
    "# sort the values from high to low\n",
    "lr_coef = lr_coef.sort_values(by = 'penalized_regression_coefficients', \n",
    "ascending = False)\n",
    "\n",
    "# Jasmine changing things up here on out! Top half not mine. \n",
    "# create best and worst performing lasso coef dataframes\n",
    "df_head = lr_coef.head(10)\n",
    "df_tail = lr_coef.tail(10)\n",
    "\n",
    "# merge back together\n",
    "df_merged = pd.concat([df_head, df_tail], axis=0)\n",
    "\n",
    "# plot the sorted dataframe\n",
    "fig, ax = plt.subplots()\n",
    "fig.set_size_inches(8, 6)\n",
    "fig.suptitle('Coefficients!', size=14)\n",
    "ax = sns.barplot(x = 'penalized_regression_coefficients', y= df_merged.index, \n",
    "data=df_merged)\n",
    "ax.set(xlabel='Penalized Regression Coefficients')\n",
    "plt.tight_layout(pad=3, w_pad=0, h_pad=0);"
   ]
  },
  {
   "cell_type": "code",
   "execution_count": 59,
   "metadata": {
    "ExecuteTime": {
     "end_time": "2019-10-04T16:55:33.442747Z",
     "start_time": "2019-10-04T16:55:33.434841Z"
    }
   },
   "outputs": [
    {
     "name": "stdout",
     "output_type": "stream",
     "text": [
      "The word that contributes the most positively to being from r/TheOnion is nation followed by heartbreaking and ftw .\n",
      "-----------------------------------\n",
      "The word that contributes the most positively to being from r/nottheonion is greenland followed by arrested and uk .\n"
     ]
    }
   ],
   "source": [
    "print(\"The word that contributes the most positively to being from r/TheOnion is\", \n",
    "      df_merged.index[0], \"followed by\", \n",
    "      df_merged.index[1], \"and\",\n",
    "      df_merged.index[2],\".\")\n",
    "\n",
    "print(\"-----------------------------------\")\n",
    "\n",
    "print(\"The word that contributes the most positively to being from r/nottheonion is\", \n",
    "      df_merged.index[-1], \"followed by\", \n",
    "      df_merged.index[-2], \"and\",\n",
    "      df_merged.index[-3],\".\")"
   ]
  },
  {
   "cell_type": "code",
   "execution_count": 60,
   "metadata": {
    "ExecuteTime": {
     "end_time": "2019-10-04T16:55:34.312474Z",
     "start_time": "2019-10-04T16:55:34.285060Z"
    }
   },
   "outputs": [
    {
     "data": {
      "text/html": [
       "<div>\n",
       "<style scoped>\n",
       "    .dataframe tbody tr th:only-of-type {\n",
       "        vertical-align: middle;\n",
       "    }\n",
       "\n",
       "    .dataframe tbody tr th {\n",
       "        vertical-align: top;\n",
       "    }\n",
       "\n",
       "    .dataframe thead th {\n",
       "        text-align: right;\n",
       "    }\n",
       "</style>\n",
       "<table border=\"1\" class=\"dataframe\">\n",
       "  <thead>\n",
       "    <tr style=\"text-align: right;\">\n",
       "      <th></th>\n",
       "      <th>penalized_regression_coefficients</th>\n",
       "      <th>exp</th>\n",
       "    </tr>\n",
       "  </thead>\n",
       "  <tbody>\n",
       "    <tr>\n",
       "      <th>nation</th>\n",
       "      <td>2.174</td>\n",
       "      <td>8.793387</td>\n",
       "    </tr>\n",
       "    <tr>\n",
       "      <th>heartbreaking</th>\n",
       "      <td>1.972</td>\n",
       "      <td>7.185032</td>\n",
       "    </tr>\n",
       "    <tr>\n",
       "      <th>ftw</th>\n",
       "      <td>1.886</td>\n",
       "      <td>6.592944</td>\n",
       "    </tr>\n",
       "    <tr>\n",
       "      <th>defiant</th>\n",
       "      <td>1.830</td>\n",
       "      <td>6.233887</td>\n",
       "    </tr>\n",
       "    <tr>\n",
       "      <th>incredible</th>\n",
       "      <td>1.692</td>\n",
       "      <td>5.430331</td>\n",
       "    </tr>\n",
       "    <tr>\n",
       "      <th>rallies</th>\n",
       "      <td>1.608</td>\n",
       "      <td>4.992816</td>\n",
       "    </tr>\n",
       "    <tr>\n",
       "      <th>announced</th>\n",
       "      <td>1.601</td>\n",
       "      <td>4.957988</td>\n",
       "    </tr>\n",
       "    <tr>\n",
       "      <th>tape</th>\n",
       "      <td>1.588</td>\n",
       "      <td>4.893951</td>\n",
       "    </tr>\n",
       "    <tr>\n",
       "      <th>beautiful</th>\n",
       "      <td>1.567</td>\n",
       "      <td>4.792250</td>\n",
       "    </tr>\n",
       "    <tr>\n",
       "      <th>tips</th>\n",
       "      <td>1.560</td>\n",
       "      <td>4.758821</td>\n",
       "    </tr>\n",
       "  </tbody>\n",
       "</table>\n",
       "</div>"
      ],
      "text/plain": [
       "               penalized_regression_coefficients       exp\n",
       "nation                                     2.174  8.793387\n",
       "heartbreaking                              1.972  7.185032\n",
       "ftw                                        1.886  6.592944\n",
       "defiant                                    1.830  6.233887\n",
       "incredible                                 1.692  5.430331\n",
       "rallies                                    1.608  4.992816\n",
       "announced                                  1.601  4.957988\n",
       "tape                                       1.588  4.893951\n",
       "beautiful                                  1.567  4.792250\n",
       "tips                                       1.560  4.758821"
      ]
     },
     "execution_count": 60,
     "metadata": {},
     "output_type": "execute_result"
    }
   ],
   "source": [
    "# Show coefficients that affect r/TheOnion\n",
    "df_merged_head = df_merged.head(10)\n",
    "exp = df_merged_head['penalized_regression_coefficients'].apply(lambda x: np.exp(x))\n",
    "df_merged_head.insert(1, 'exp', exp)\n",
    "df_merged_head.sort_values('exp', ascending=False)"
   ]
  },
  {
   "cell_type": "code",
   "execution_count": 61,
   "metadata": {
    "ExecuteTime": {
     "end_time": "2019-10-04T16:55:35.541737Z",
     "start_time": "2019-10-04T16:55:35.534205Z"
    }
   },
   "outputs": [
    {
     "name": "stdout",
     "output_type": "stream",
     "text": [
      "As occurences of nation increase by 1 in a title, that title is 8.79 times as likely to be classified as r/TheOnion.\n"
     ]
    }
   ],
   "source": [
    "print(\"As occurences of\", df_merged_head.index[0], \"increase by 1 in a title, that title is\", \n",
    "      round(df_merged_head['exp'][0],2), \"times as likely to be classified as r/TheOnion.\")"
   ]
  },
  {
   "cell_type": "code",
   "execution_count": 62,
   "metadata": {
    "ExecuteTime": {
     "end_time": "2019-10-04T16:55:36.515035Z",
     "start_time": "2019-10-04T16:55:36.492910Z"
    }
   },
   "outputs": [
    {
     "data": {
      "text/html": [
       "<div>\n",
       "<style scoped>\n",
       "    .dataframe tbody tr th:only-of-type {\n",
       "        vertical-align: middle;\n",
       "    }\n",
       "\n",
       "    .dataframe tbody tr th {\n",
       "        vertical-align: top;\n",
       "    }\n",
       "\n",
       "    .dataframe thead th {\n",
       "        text-align: right;\n",
       "    }\n",
       "</style>\n",
       "<table border=\"1\" class=\"dataframe\">\n",
       "  <thead>\n",
       "    <tr style=\"text-align: right;\">\n",
       "      <th></th>\n",
       "      <th>penalized_regression_coefficients</th>\n",
       "      <th>exp</th>\n",
       "    </tr>\n",
       "  </thead>\n",
       "  <tbody>\n",
       "    <tr>\n",
       "      <th>greenland</th>\n",
       "      <td>-3.217</td>\n",
       "      <td>24.953148</td>\n",
       "    </tr>\n",
       "    <tr>\n",
       "      <th>arrested</th>\n",
       "      <td>-2.751</td>\n",
       "      <td>15.658282</td>\n",
       "    </tr>\n",
       "    <tr>\n",
       "      <th>uk</th>\n",
       "      <td>-2.470</td>\n",
       "      <td>11.822447</td>\n",
       "    </tr>\n",
       "    <tr>\n",
       "      <th>jailed</th>\n",
       "      <td>-2.426</td>\n",
       "      <td>11.313537</td>\n",
       "    </tr>\n",
       "    <tr>\n",
       "      <th>texas</th>\n",
       "      <td>-2.359</td>\n",
       "      <td>10.580366</td>\n",
       "    </tr>\n",
       "    <tr>\n",
       "      <th>police</th>\n",
       "      <td>-2.342</td>\n",
       "      <td>10.402020</td>\n",
       "    </tr>\n",
       "    <tr>\n",
       "      <th>india</th>\n",
       "      <td>-2.317</td>\n",
       "      <td>10.145193</td>\n",
       "    </tr>\n",
       "    <tr>\n",
       "      <th>china</th>\n",
       "      <td>-2.267</td>\n",
       "      <td>9.650406</td>\n",
       "    </tr>\n",
       "    <tr>\n",
       "      <th>butt</th>\n",
       "      <td>-2.229</td>\n",
       "      <td>9.290571</td>\n",
       "    </tr>\n",
       "    <tr>\n",
       "      <th>chicken</th>\n",
       "      <td>-2.192</td>\n",
       "      <td>8.953101</td>\n",
       "    </tr>\n",
       "  </tbody>\n",
       "</table>\n",
       "</div>"
      ],
      "text/plain": [
       "           penalized_regression_coefficients        exp\n",
       "greenland                             -3.217  24.953148\n",
       "arrested                              -2.751  15.658282\n",
       "uk                                    -2.470  11.822447\n",
       "jailed                                -2.426  11.313537\n",
       "texas                                 -2.359  10.580366\n",
       "police                                -2.342  10.402020\n",
       "india                                 -2.317  10.145193\n",
       "china                                 -2.267   9.650406\n",
       "butt                                  -2.229   9.290571\n",
       "chicken                               -2.192   8.953101"
      ]
     },
     "execution_count": 62,
     "metadata": {},
     "output_type": "execute_result"
    }
   ],
   "source": [
    "# Show coefficients that affect r/nottheonion\n",
    "df_merged_tail = df_merged.tail(10)\n",
    "exp = df_merged_tail['penalized_regression_coefficients'].apply(lambda x: np.exp(x * -1))\n",
    "df_merged_tail.insert(1, 'exp', exp)\n",
    "df_merged_tail.sort_values('exp', ascending=False)"
   ]
  },
  {
   "cell_type": "code",
   "execution_count": 63,
   "metadata": {
    "ExecuteTime": {
     "end_time": "2019-10-04T16:55:37.594878Z",
     "start_time": "2019-10-04T16:55:37.587298Z"
    }
   },
   "outputs": [
    {
     "name": "stdout",
     "output_type": "stream",
     "text": [
      "As occurences of greenland increase by 1 in a title, that title is 24.95 times as likely to be classified as r/nottheonion.\n"
     ]
    }
   ],
   "source": [
    "print(\"As occurences of\", df_merged_tail.index[-1], \"increase by 1 in a title, that title is\", \n",
    "      round(df_merged_tail['exp'][-1],2), \"times as likely to be classified as r/nottheonion.\")"
   ]
  },
  {
   "cell_type": "markdown",
   "metadata": {},
   "source": [
    "## Conclusions and Next-Steps\n",
    "The most model to optimize for accuracy in detecting fake news and absurd news uses CountVectorizer and MultinomialDB. The optimal parameters for this model are where ngram_range = (1,3) and alpha = 0.36.\n",
    "\n",
    "Accuracy: 89.72%\n",
    "Precision: 90.87%\n",
    "Recall: 90.02%\n",
    "Specificity: 89.38%\n",
    "Misclassification Rate: 11.11%\n",
    "To interpret my coefficients, I used my CountVectorizer & Logistic Regression model.\n",
    "\n",
    "The word that contributes the most positively to being from r/TheOnion is 'incredible' followed by 'questions' and 'heartbreaking'.\n",
    "As occurences of \"incredible\" increase by 1 in a title, that title is 10.32 times as likely to be classified as r/TheOnion.\n",
    "The word that contributes the most positively to being from r/nottheonion is 'australia' followed by 'title' and 'florida'.\n",
    "As occurences of \"australia\" increase by 1 in a title, that title is 15.03 times as likely to be classified as r/nottheonion.\n",
    "Natural Language Processing of text is one way to analyze fake news, but a major gap exists: image & video analysis. For my next-steps, I am interested in being able to interpret media (images and videos) and classify them as authentic news, fake news, or none of the above (i.e., media for entertainment)."
   ]
  },
  {
   "cell_type": "code",
   "execution_count": null,
   "metadata": {},
   "outputs": [],
   "source": []
  },
  {
   "cell_type": "code",
   "execution_count": null,
   "metadata": {},
   "outputs": [],
   "source": []
  },
  {
   "cell_type": "code",
   "execution_count": null,
   "metadata": {},
   "outputs": [],
   "source": []
  }
 ],
 "metadata": {
  "kernelspec": {
   "display_name": "Python 3",
   "language": "python",
   "name": "python3"
  },
  "language_info": {
   "codemirror_mode": {
    "name": "ipython",
    "version": 3
   },
   "file_extension": ".py",
   "mimetype": "text/x-python",
   "name": "python",
   "nbconvert_exporter": "python",
   "pygments_lexer": "ipython3",
   "version": "3.7.1"
  },
  "toc": {
   "base_numbering": 1,
   "nav_menu": {},
   "number_sections": true,
   "sideBar": true,
   "skip_h1_title": false,
   "title_cell": "Table of Contents",
   "title_sidebar": "Contents",
   "toc_cell": false,
   "toc_position": {},
   "toc_section_display": true,
   "toc_window_display": false
  },
  "varInspector": {
   "cols": {
    "lenName": 16,
    "lenType": 16,
    "lenVar": 40
   },
   "kernels_config": {
    "python": {
     "delete_cmd_postfix": "",
     "delete_cmd_prefix": "del ",
     "library": "var_list.py",
     "varRefreshCmd": "print(var_dic_list())"
    },
    "r": {
     "delete_cmd_postfix": ") ",
     "delete_cmd_prefix": "rm(",
     "library": "var_list.r",
     "varRefreshCmd": "cat(var_dic_list()) "
    }
   },
   "types_to_exclude": [
    "module",
    "function",
    "builtin_function_or_method",
    "instance",
    "_Feature"
   ],
   "window_display": false
  }
 },
 "nbformat": 4,
 "nbformat_minor": 2
}
